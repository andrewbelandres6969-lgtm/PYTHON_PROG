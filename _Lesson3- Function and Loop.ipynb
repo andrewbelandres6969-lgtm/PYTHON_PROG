{
 "cells": [
  {
   "cell_type": "markdown",
   "id": "f154fe1c-0099-4c8d-9b1f-2ee6879462a4",
   "metadata": {},
   "source": [
    "# Review Questions1 "
   ]
  },
  {
   "cell_type": "code",
   "execution_count": 1,
   "id": "c88ed9cc-ea21-4458-9a8d-d3feeb43e391",
   "metadata": {},
   "outputs": [
    {
     "name": "stdout",
     "output_type": "stream",
     "text": [
      "64\n"
     ]
    }
   ],
   "source": [
    "def cube (number):\n",
    "\n",
    "    return number**3\n",
    "print (cube(4))\n"
   ]
  },
  {
   "cell_type": "code",
   "execution_count": 3,
   "id": "954af8ae-9007-4e50-867a-309b4b8db183",
   "metadata": {},
   "outputs": [
    {
     "name": "stdout",
     "output_type": "stream",
     "text": [
      "Hello, Andrew!\n"
     ]
    }
   ],
   "source": [
    "def greet(name):\n",
    "    print(f\"Hello, {name}!\")\n",
    "\n",
    "\n",
    "greet(\"Andrew\")"
   ]
  },
  {
   "cell_type": "markdown",
   "id": "c70b72c0-e0e0-4f7e-a681-cae34ea0f357",
   "metadata": {},
   "source": [
    "# Review Questions2\n",
    "\n"
   ]
  },
  {
   "cell_type": "code",
   "execution_count": 9,
   "id": "31f56102-8c22-4d92-a984-e47eb3f90580",
   "metadata": {},
   "outputs": [
    {
     "name": "stdin",
     "output_type": "stream",
     "text": [
      "Enter Temperature in Celsius:  37\n"
     ]
    },
    {
     "name": "stdout",
     "output_type": "stream",
     "text": [
      "37.0 degrees C = 98.60 degrees F\n"
     ]
    }
   ],
   "source": [
    "def convert_cel_to_far(celsius):  \n",
    "    return (celsius * 9/5) + 32    # use the same name here\n",
    "\n",
    "c = float(input(\"Enter Temperature in Celsius: \"))\n",
    "f = convert_cel_to_far(c)\n",
    "\n",
    "print(f\"{c} degrees C = {f:.2f} degrees F\")"
   ]
  },
  {
   "cell_type": "code",
   "execution_count": 5,
   "id": "4ed2c6ba-8625-4392-9d45-effbe926f5e2",
   "metadata": {},
   "outputs": [
    {
     "name": "stdin",
     "output_type": "stream",
     "text": [
      "Enter temperature in Fahrenheit:  72\n"
     ]
    },
    {
     "name": "stdout",
     "output_type": "stream",
     "text": [
      "72.0 degrees F = 22.22 degrees C\n"
     ]
    }
   ],
   "source": [
    "def convert_far_to_cel(fahrenheit):\n",
    "    return (fahrenheit - 32) * 5/9\n",
    "\n",
    "\n",
    "f = float(input(\"Enter temperature in Fahrenheit: \"))\n",
    "c = convert_far_to_cel(f)\n",
    "\n",
    "\n",
    "print(f\"{f} degrees F = {c:.2f} degrees C\")"
   ]
  },
  {
   "cell_type": "markdown",
   "id": "4ff4e271-9b6a-49f7-a668-56fb251e50d0",
   "metadata": {},
   "source": [
    "# Review Questions 3\n"
   ]
  },
  {
   "cell_type": "code",
   "execution_count": 13,
   "id": "c77c2d5f-cb31-4af2-aaf1-40fd5b7484f7",
   "metadata": {
    "scrolled": true
   },
   "outputs": [
    {
     "name": "stdout",
     "output_type": "stream",
     "text": [
      "2\n",
      "3\n",
      "4\n",
      "5\n",
      "6\n",
      "7\n",
      "8\n",
      "9\n",
      "10\n"
     ]
    }
   ],
   "source": [
    "1.\n",
    "for n in range (2 , 11):\n",
    "    print (n)\n",
    "    "
   ]
  },
  {
   "cell_type": "code",
   "execution_count": 14,
   "id": "f6d0e64e-7cbe-4bc4-b351-8ce52fed16d2",
   "metadata": {},
   "outputs": [
    {
     "name": "stdout",
     "output_type": "stream",
     "text": [
      "2\n",
      "3\n",
      "4\n",
      "5\n",
      "6\n",
      "7\n",
      "8\n",
      "9\n",
      "10\n"
     ]
    }
   ],
   "source": [
    "i = 2\n",
    "while i <=10:\n",
    "    print (i)\n",
    "    i+=1"
   ]
  },
  {
   "cell_type": "code",
   "execution_count": 19,
   "id": "f9e3f6f1-4758-49ed-9a0b-5307a683c44e",
   "metadata": {},
   "outputs": [
    {
     "name": "stdout",
     "output_type": "stream",
     "text": [
      "4\n",
      "8\n",
      "16\n"
     ]
    }
   ],
   "source": [
    "def doubles(num):\n",
    "    return num * 2\n",
    "    \n",
    "n = 2\n",
    "for i in range(3):\n",
    "    n = doubles(n)\n",
    "    print(n)"
   ]
  },
  {
   "cell_type": "code",
   "execution_count": null,
   "id": "f16ede0f-5915-4dd8-9257-0d758cf107ef",
   "metadata": {},
   "outputs": [],
   "source": []
  }
 ],
 "metadata": {
  "kernelspec": {
   "display_name": "Python 3 (ipykernel)",
   "language": "python",
   "name": "python3"
  },
  "language_info": {
   "codemirror_mode": {
    "name": "ipython",
    "version": 3
   },
   "file_extension": ".py",
   "mimetype": "text/x-python",
   "name": "python",
   "nbconvert_exporter": "python",
   "pygments_lexer": "ipython3",
   "version": "3.13.5"
  }
 },
 "nbformat": 4,
 "nbformat_minor": 5
}
