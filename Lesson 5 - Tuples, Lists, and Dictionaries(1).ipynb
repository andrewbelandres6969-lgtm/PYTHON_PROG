{
 "cells": [
  {
   "cell_type": "markdown",
   "id": "3a19b5c2-18d5-4261-97e7-e3539c784729",
   "metadata": {},
   "source": [
    "# Review Exercise: 1"
   ]
  },
  {
   "cell_type": "code",
   "execution_count": 6,
   "id": "0041a10b-24f1-4e3d-9c91-b2f7112dbb38",
   "metadata": {
    "scrolled": true
   },
   "outputs": [
    {
     "name": "stdout",
     "output_type": "stream",
     "text": [
      "Third\n"
     ]
    }
   ],
   "source": [
    "cardinal_numbers = (\"First\", \"Second\", \"Third\")\n",
    "print(cardinal_numbers[2])"
   ]
  },
  {
   "cell_type": "code",
   "execution_count": 7,
   "id": "678fde6a-deff-48eb-93a5-d88f38e54500",
   "metadata": {
    "scrolled": true
   },
   "outputs": [
    {
     "name": "stdout",
     "output_type": "stream",
     "text": [
      "First\n",
      "Second\n",
      "Third\n"
     ]
    }
   ],
   "source": [
    "position1, position2, position3 = cardinal_numbers\n",
    "print(position1)\n",
    "print(position2)\n",
    "print(position3)"
   ]
  },
  {
   "cell_type": "code",
   "execution_count": 25,
   "id": "bcda0b45-0fd4-40f1-8554-492b4fd839f0",
   "metadata": {
    "scrolled": true
   },
   "outputs": [
    {
     "name": "stdout",
     "output_type": "stream",
     "text": [
      "False\n"
     ]
    }
   ],
   "source": [
    "my_name = tuple(\"YourName\")\n",
    "my_name = tuple(\"Patrick\")\n",
    "print(\"x\" in my_name)"
   ]
  },
  {
   "cell_type": "code",
   "execution_count": 24,
   "id": "1c29601f-84cc-4c46-96e8-bd18da864202",
   "metadata": {
    "scrolled": true
   },
   "outputs": [
    {
     "name": "stdout",
     "output_type": "stream",
     "text": [
      "('t', 'r', 'i', 'c', 'k')\n"
     ]
    }
   ],
   "source": [
    "new_tuple = my_name[2:]\n",
    "print(new_tuple)"
   ]
  },
  {
   "cell_type": "markdown",
   "id": "35f3fa15-ec3e-4e24-8459-030dd91b6cf0",
   "metadata": {},
   "source": [
    "# Review Exercise: 2"
   ]
  },
  {
   "cell_type": "code",
   "execution_count": 29,
   "id": "06d11dcb-5ad6-41a3-9bbe-eb805bfe0575",
   "metadata": {
    "scrolled": true
   },
   "outputs": [
    {
     "name": "stdout",
     "output_type": "stream",
     "text": [
      "['Rice', 'Beans']\n",
      "Pizza\n"
     ]
    }
   ],
   "source": [
    "food = [\"Rice\", \"Beans\"]\n",
    "\n",
    "food.append(\"Broccolli\")\n",
    "food.extend([\"Bread\", \"Pizza\"])\n",
    "print(food[:2])\n",
    "print(food[-1])"
   ]
  },
  {
   "cell_type": "code",
   "execution_count": 34,
   "id": "d3cc3f5b-7e07-4865-bcd3-0b1847063fc1",
   "metadata": {
    "scrolled": true
   },
   "outputs": [
    {
     "name": "stdout",
     "output_type": "stream",
     "text": [
      "3\n",
      "[4, 5, 12]\n"
     ]
    }
   ],
   "source": [
    "breakfast = \"Eggs, fruit, orange juice\".split(\", \")\n",
    "print(len(breakfast))\n",
    "\n",
    "lengths = [len(item) for item in breakfast]\n",
    "print(lengths)"
   ]
  },
  {
   "cell_type": "markdown",
   "id": "054af7f3-ab01-4b50-b81d-b4b8ef418578",
   "metadata": {},
   "source": [
    "# Review Exercise: 3"
   ]
  },
  {
   "cell_type": "code",
   "execution_count": 43,
   "id": "ecf22777-0ee9-4c5a-b581-2aebb2950ab3",
   "metadata": {
    "scrolled": true
   },
   "outputs": [
    {
     "name": "stdout",
     "output_type": "stream",
     "text": [
      "Row 1 sum: 3\n",
      "Row 2 sum: 7\n"
     ]
    }
   ],
   "source": [
    "data = ((1,2), (3,4))\n",
    "for i, tup in enumerate(data, start=1):\n",
    "    print(f\"Row {i} sum: {sum(tup)}\")"
   ]
  },
  {
   "cell_type": "code",
   "execution_count": 12,
   "id": "bd0263df-a1e3-4376-9f5c-31ff31420a1f",
   "metadata": {
    "scrolled": true
   },
   "outputs": [
    {
     "name": "stdout",
     "output_type": "stream",
     "text": [
      "[1, 4, 7, 8, 9]\n",
      "[8, 4, 1, 7, 9]\n"
     ]
    }
   ],
   "source": [
    "numbers = [8, 4, 1, 7, 9]\n",
    "\n",
    "numbers_copy = numbers[:]\n",
    "numbers.sort()\n",
    "\n",
    "print(numbers)\n",
    "print(numbers_copy)"
   ]
  },
  {
   "cell_type": "markdown",
   "id": "db57de4b-3280-43b5-a7a9-cb051777036b",
   "metadata": {},
   "source": [
    "# CHALLENGE: LIST OF LISTS"
   ]
  },
  {
   "cell_type": "code",
   "execution_count": 11,
   "id": "952ecaaa-70c4-4550-b314-958c6e1bf0e1",
   "metadata": {
    "scrolled": true
   },
   "outputs": [
    {
     "name": "stdout",
     "output_type": "stream",
     "text": [
      "Name (Students, Tuition):\n",
      "California Institute of Technology (2175 students, $37704 tuition)\n",
      "Harvard (19627 students, $39849 tuition)\n",
      "Massachusetts Institute of Technology (10566 students, $40732 tuition)\n",
      "Princeton (7802 students, $37000 tuition)\n",
      "Rice (5879 students, $35551 tuition)\n",
      "Stanford (19535 students, $40569 tuition)\n",
      "Yale (11701 students, $40500 tuition)\n"
     ]
    }
   ],
   "source": [
    "universities = [\n",
    "    ['California Institute of Technology', 2175, 37704],\n",
    "    ['Harvard', 19627, 39849],\n",
    "    ['Massachusetts Institute of Technology', 10566, 40732],\n",
    "    ['Princeton', 7802, 37000],\n",
    "    ['Rice', 5879, 35551],\n",
    "    ['Stanford', 19535, 40569],\n",
    "    ['Yale', 11701, 40500]\n",
    "]\n",
    "print(\"Name (Students, Tuition):\")\n",
    "for uni in universities:\n",
    "    name = uni[0]\n",
    "    students = uni[1]\n",
    "    tuition = uni[2]\n",
    "    print(f\"{name} ({students} students, ${tuition} tuition)\")"
   ]
  },
  {
   "cell_type": "markdown",
   "id": "e88b0753-1413-4d7f-9346-557e7539283c",
   "metadata": {},
   "source": [
    "# CHALLENGE: WAX POETIC"
   ]
  },
  {
   "cell_type": "code",
   "execution_count": 10,
   "id": "b88cee69-87f5-4227-8630-5fcc2eaf1464",
   "metadata": {
    "scrolled": true
   },
   "outputs": [
    {
     "name": "stdout",
     "output_type": "stream",
     "text": [
      "Nouns: ['FOSSIL', 'HORSE', 'AARDVARK', 'JUDGE', 'CHEF', 'MANGO', 'EXTROVERT', 'GORILLA']\n",
      "Verbs: ['KICKS', 'JINGLES', 'BOUNCES', 'SLURPS', 'MEOWS', 'EXPLODES', 'CURDLES']\n",
      "Adjectives: ['FURRY', 'BALDING', 'INCREDULOUS', 'FRAGRANT', 'EXUBERANT', 'GLISTENING']\n",
      "Prepositions: ['AGAINST', 'AFTER', 'INTO', 'BENEATH', 'UPON', 'FOR', 'IN', 'LIKE', 'OVER', 'WITHIN']\n",
      "Adverbs: ['CURIOUSLY', 'FURIOUSLY', 'SENSUOUSLY', 'EXTRAVAGANTLY', 'TANTALIZINGLY']\n"
     ]
    }
   ],
   "source": [
    "nouns = [\"FOSSIL\", \"HORSE\", \"AARDVARK\", \"JUDGE\", \"CHEF\", \"MANGO\", \"EXTROVERT\", \"GORILLA\"]\n",
    "verbs = [\"KICKS\", \"JINGLES\", \"BOUNCES\", \"SLURPS\", \"MEOWS\", \"EXPLODES\", \"CURDLES\"]\n",
    "adjectives = [\"FURRY\", \"BALDING\", \"INCREDULOUS\", \"FRAGRANT\", \"EXUBERANT\", \"GLISTENING\"]\n",
    "prepositions = [\"AGAINST\", \"AFTER\", \"INTO\", \"BENEATH\", \"UPON\", \"FOR\", \"IN\", \"LIKE\", \"OVER\", \"WITHIN\"]\n",
    "adverbs = [\"CURIOUSLY\", \"FURIOUSLY\", \"SENSUOUSLY\", \"EXTRAVAGANTLY\", \"TANTALIZINGLY\"]\n",
    "\n",
    "print(\"Nouns:\", nouns)\n",
    "print(\"Verbs:\", verbs)\n",
    "print(\"Adjectives:\", adjectives)\n",
    "print(\"Prepositions:\", prepositions)\n",
    "print(\"Adverbs:\", adverbs)"
   ]
  },
  {
   "cell_type": "markdown",
   "id": "58f95fc6-8365-44cb-b2a6-74f78d8b8231",
   "metadata": {},
   "source": [
    "# Review Exercise: 4"
   ]
  },
  {
   "cell_type": "code",
   "execution_count": 3,
   "id": "1eabb64e-1ebb-49ce-ac4e-d3492f689e4a",
   "metadata": {
    "scrolled": true
   },
   "outputs": [
    {
     "name": "stdout",
     "output_type": "stream",
     "text": [
      "The Enterprise is captained by Picard.\n",
      "The Voyager is captained by Janeway.\n",
      "The Defiant is captained by Sisko.\n",
      "The Discovery is captained by UNKNOWN.\n",
      "\n",
      "Bonus dictionary: {'Enterprise': 'Picard', 'Voyager': 'Janeway', 'Defiant': 'Sisko'}\n"
     ]
    }
   ],
   "source": [
    "captains = {}\n",
    "\n",
    "captains['Enterprise'] = 'Picard'\n",
    "captains['Voyager'] = 'Janeway'\n",
    "captains['Defiant'] = 'Sisko'\n",
    "\n",
    "if 'Enterprise' not in captains:\n",
    "    captains['Enterprise'] = 'UNKNOWN'\n",
    "\n",
    "if 'Discovery' not in captains:\n",
    "    captains['Discovery'] = 'UNKNOWN'\n",
    "\n",
    "for ship, captain in captains.items():\n",
    "    print(f\"The {ship} is captained by {captain}.\")\n",
    "\n",
    "if 'Discovery' in captains:\n",
    "    del captains['Discovery']\n",
    "\n",
    "bonus_captains = dict(\n",
    "    Enterprise='Picard',\n",
    "    Voyager='Janeway',\n",
    "    Defiant='Sisko'\n",
    ")\n",
    "print(\"\\nBonus dictionary:\", bonus_captains)"
   ]
  },
  {
   "cell_type": "markdown",
   "id": "0b4c8cde-c014-40e5-a83d-e1b83a346b8c",
   "metadata": {},
   "source": [
    "# CHALLENGE: CAPITAL CITY LOOP"
   ]
  },
  {
   "cell_type": "code",
   "execution_count": 15,
   "id": "b2182686-7b34-4ed9-8bfc-e1858716f533",
   "metadata": {
    "scrolled": true
   },
   "outputs": [
    {
     "name": "stdin",
     "output_type": "stream",
     "text": [
      "Enter a U.S. state (or 'stop' to exit):  Atlanta\n"
     ]
    },
    {
     "name": "stdout",
     "output_type": "stream",
     "text": [
      "Sorry, Atlanta is not in the dictionary.\n",
      "\n"
     ]
    },
    {
     "name": "stdin",
     "output_type": "stream",
     "text": [
      "Enter a U.S. state (or 'stop' to exit):  stop\n"
     ]
    },
    {
     "name": "stdout",
     "output_type": "stream",
     "text": [
      "Adios\n"
     ]
    }
   ],
   "source": [
    "capitals_dict = {\n",
    "    'Alabama': 'Montgomery',\n",
    "    'Alaska': 'Juneau',\n",
    "    'Arizona': 'Phoenix',\n",
    "    'Arkansas': 'Little Rock',\n",
    "    'California': 'Sacramento',\n",
    "    'Colorado': 'Denver',\n",
    "    'Connecticut': 'Hartford',\n",
    "    'Delaware': 'Dover',\n",
    "    'Florida': 'Tallahassee',\n",
    "    'Georgia': 'Atlanta',\n",
    "}\n",
    "\n",
    "while True:\n",
    "    state = input(\"Enter a U.S. state (or 'stop' to exit): \")\n",
    "\n",
    "    if state.lower() == 'stop':\n",
    "        print(\"Adios\")\n",
    "        break\n",
    "\n",
    "    if state in capitals_dict:\n",
    "        print(f\"The capital of {state} is {capitals_dict[state]}.\\n\")\n",
    "    else:\n",
    "        print(f\"Sorry, {state} is not in the dictionary.\\n\")"
   ]
  }
 ],
 "metadata": {
  "kernelspec": {
   "display_name": "Python [conda env:base] *",
   "language": "python",
   "name": "conda-base-py"
  },
  "language_info": {
   "codemirror_mode": {
    "name": "ipython",
    "version": 3
   },
   "file_extension": ".py",
   "mimetype": "text/x-python",
   "name": "python",
   "nbconvert_exporter": "python",
   "pygments_lexer": "ipython3",
   "version": "3.13.5"
  }
 },
 "nbformat": 4,
 "nbformat_minor": 5
}
