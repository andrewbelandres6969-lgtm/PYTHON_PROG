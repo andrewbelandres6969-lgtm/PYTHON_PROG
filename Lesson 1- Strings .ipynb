{
 "cells": [
  {
   "cell_type": "markdown",
   "id": "a843c9cd-bbe2-47f7-a76f-7aef9da8fccc",
   "metadata": {},
   "source": [
    "# Review Question 1"
   ]
  },
  {
   "cell_type": "code",
   "execution_count": 13,
   "id": "3629621a-78ad-4f27-b468-8e62fc330edc",
   "metadata": {},
   "outputs": [
    {
     "name": "stdout",
     "output_type": "stream",
     "text": [
      "13\n",
      "Concatenated string: HelloWorld\n",
      "Concatenated with space: Hello there\n",
      "Sliced word 'fox': fox\n"
     ]
    }
   ],
   "source": [
    "#1\n",
    "\n",
    "my_string = \"Hello, world!\"\n",
    "print(len(my_string))\n",
    "\n",
    "#2\n",
    "\n",
    "string1 = \"Hello\"\n",
    "string2 = \"World\"\n",
    "result = string1 + string2\n",
    "print(\"Concatenated string:\", result)\n",
    "\n",
    "#3\n",
    "\n",
    "string3 = \"Hello\"\n",
    "string4 = \"there\"\n",
    "result_with_space = string3 + \" \" + string4\n",
    "print(\"Concatenated with space:\", result_with_space)\n",
    "\n",
    "#4\n",
    "\n",
    "sentence = \"The quick brown fox jumped over the lazy dog. #1234567890!\"\n",
    "sliced_fox = sentence[16:19]  \n",
    "print(\"Sliced word 'fox':\", sliced_fox)\n"
   ]
  },
  {
   "cell_type": "markdown",
   "id": "291674c4-82ec-4bae-9b80-7e25dbfea259",
   "metadata": {},
   "source": [
    "# Review Question 2\n",
    "\n"
   ]
  },
  {
   "cell_type": "code",
   "execution_count": 17,
   "id": "752128da-027d-45d7-a028-8ca5e1974e16",
   "metadata": {
    "scrolled": true
   },
   "outputs": [
    {
     "name": "stdout",
     "output_type": "stream",
     "text": [
      "animals\n",
      "badger\n",
      "honey bee\n",
      "honeybadger\n"
     ]
    }
   ],
   "source": [
    "#1\n",
    "strings = [\"Animals\", \"Badger\", \"Honey Bee\", \"Honeybadger\"]\n",
    "\n",
    "for s in strings:\n",
    "    print(s.lower())\n"
   ]
  },
  {
   "cell_type": "code",
   "execution_count": 20,
   "id": "a24a3651-bd68-449b-a4d3-c034a88d9fc9",
   "metadata": {
    "scrolled": true
   },
   "outputs": [
    {
     "name": "stdout",
     "output_type": "stream",
     "text": [
      "ANIMALS\n",
      "BADGER\n",
      "HONEY BEE\n",
      "HONEYBADGER\n"
     ]
    }
   ],
   "source": [
    "#2\n",
    "strings = [\"Animals\", \"Badger\", \"Honey Bee\", \"Honeybadger\"]\n",
    "\n",
    "for s in strings:\n",
    "    print(s.upper())\n",
    "\n"
   ]
  },
  {
   "cell_type": "code",
   "execution_count": 21,
   "id": "ef625ccf-235e-4771-9f31-053e0c40e151",
   "metadata": {
    "scrolled": true
   },
   "outputs": [
    {
     "name": "stdout",
     "output_type": "stream",
     "text": [
      "Filet Mignon\n",
      "Brisket\n"
     ]
    }
   ],
   "source": [
    "#3\n",
    "\n",
    "string1 = \" Filet Mignon\"\n",
    "string2 = \"Brisket \"\n",
    "\n",
    "print(string1.strip())\n",
    "print(string2.strip())\n",
    "\n"
   ]
  },
  {
   "cell_type": "code",
   "execution_count": 22,
   "id": "b76c17ef-45ee-43b4-a7cf-0ef158728fba",
   "metadata": {},
   "outputs": [
    {
     "name": "stdout",
     "output_type": "stream",
     "text": [
      "False\n",
      "True\n"
     ]
    }
   ],
   "source": [
    "#4\n",
    "\n",
    "string1 = \"Becomes\"\n",
    "string2 = \"becomes\"\n",
    "\n",
    "print(string1.startswith(\"be\"))\n",
    "print(string2.startswith(\"be\"))\n",
    "\n"
   ]
  },
  {
   "cell_type": "code",
   "execution_count": 23,
   "id": "9cd301ab-bc15-460f-ae32-26a00c30112f",
   "metadata": {},
   "outputs": [
    {
     "name": "stdout",
     "output_type": "stream",
     "text": [
      "True\n",
      "True\n"
     ]
    }
   ],
   "source": [
    "#5\n",
    "\n",
    "string1 = \"Becomes\"\n",
    "string2 = \"becomes\"\n",
    "\n",
    "\n",
    "string1 = string1.lower()\n",
    "string2 = string2.lower()\n",
    "\n",
    "print(string1.startswith(\"be\"))\n",
    "print(string2.startswith(\"be\"))"
   ]
  },
  {
   "cell_type": "markdown",
   "id": "13a15e4a-6da3-40b8-bb41-ba7eaf51edd7",
   "metadata": {},
   "source": [
    "# Review Questions 3"
   ]
  },
  {
   "cell_type": "code",
   "execution_count": 10,
   "id": "4aa54d46-85e9-45b3-addc-f6ad01dc23d6",
   "metadata": {},
   "outputs": [
    {
     "name": "stdin",
     "output_type": "stream",
     "text": [
      "Enter something:  Programming\n"
     ]
    },
    {
     "name": "stdout",
     "output_type": "stream",
     "text": [
      "You entered: Programming\n"
     ]
    }
   ],
   "source": [
    "#1\n",
    "\n",
    "user_input = input(\"Enter something: \")\n",
    "print(\"You entered:\", user_input)"
   ]
  },
  {
   "cell_type": "code",
   "execution_count": 25,
   "id": "b72c4678-8762-4c99-9a4d-54b3cf0c1565",
   "metadata": {},
   "outputs": [
    {
     "name": "stdin",
     "output_type": "stream",
     "text": [
      "Enter something:  This is Lower Case\n"
     ]
    },
    {
     "name": "stdout",
     "output_type": "stream",
     "text": [
      "Lowercase: this is lower case\n"
     ]
    }
   ],
   "source": [
    "#2\n",
    "\n",
    "user_input = input(\"Enter something: \")\n",
    "print(\"Lowercase:\", user_input.lower())"
   ]
  },
  {
   "cell_type": "code",
   "execution_count": 24,
   "id": "f17dda32-f5d0-44d5-b31d-00a3aff216ea",
   "metadata": {},
   "outputs": [
    {
     "name": "stdin",
     "output_type": "stream",
     "text": [
      "Enter something:  Hii I'm Andrew :)\n"
     ]
    },
    {
     "name": "stdout",
     "output_type": "stream",
     "text": [
      "Number of characters: 17\n"
     ]
    }
   ],
   "source": [
    "#3\n",
    "\n",
    "user_input = input(\"Enter something: \")\n",
    "print(\"Number of characters:\", len(user_input))"
   ]
  },
  {
   "cell_type": "markdown",
   "id": "10e7f77b-8633-4ba6-8cfa-574786fc619f",
   "metadata": {},
   "source": [
    "# Review Questions 4\n"
   ]
  },
  {
   "cell_type": "code",
   "execution_count": 19,
   "id": "c0fed7f8-9e4f-49d4-9c88-40ad697a6baa",
   "metadata": {},
   "outputs": [
    {
     "name": "stdin",
     "output_type": "stream",
     "text": [
      "Tell me your name:  Andrew\n"
     ]
    },
    {
     "name": "stdout",
     "output_type": "stream",
     "text": [
      "The first letter of your name is: A\n"
     ]
    }
   ],
   "source": [
    "#1\n",
    "\n",
    "name = input(\"Tell me your name: \")\n",
    "\n",
    "\n",
    "if name:  \n",
    "    first_letter = name[0].upper()\n",
    "    print(\"The first letter of your name is:\", first_letter)\n",
    "else:\n",
    "    print(\"You didn't enter a name.\")"
   ]
  },
  {
   "cell_type": "markdown",
   "id": "7d18c158-20f7-4bb0-9277-6bf9d8320f4d",
   "metadata": {},
   "source": [
    "# Review Questions 5"
   ]
  },
  {
   "cell_type": "code",
   "execution_count": 28,
   "id": "9ac44fdc-9b56-4730-8742-23c5684d4596",
   "metadata": {},
   "outputs": [
    {
     "name": "stdout",
     "output_type": "stream",
     "text": [
      "Integer multiplication: 50\n"
     ]
    }
   ],
   "source": [
    "#1\n",
    "\n",
    "str_num = \"10\"              \n",
    "int_num = int(str_num)       \n",
    "print(\"Integer multiplication:\", int_num * 5)"
   ]
  },
  {
   "cell_type": "code",
   "execution_count": 27,
   "id": "5417cb67-4cf6-4e1c-885e-5d95da9f5b52",
   "metadata": {},
   "outputs": [
    {
     "name": "stdout",
     "output_type": "stream",
     "text": [
      "Float multiplication: 6.28\n"
     ]
    }
   ],
   "source": [
    "#2\n",
    "\n",
    "str_float = \"3.14\"           \n",
    "float_num = float(str_float) \n",
    "print(\"Float multiplication:\", float_num * 2)"
   ]
  },
  {
   "cell_type": "code",
   "execution_count": 49,
   "id": "e3d7a339-36e7-476d-9548-efdb7cc6a30a",
   "metadata": {},
   "outputs": [
    {
     "name": "stdout",
     "output_type": "stream",
     "text": [
      "Age: 21\n"
     ]
    }
   ],
   "source": [
    "#3\n",
    "\n",
    "phrase = \"Age: \"\n",
    "\n",
    "age = 21\n",
    "\n",
    "print (phrase +str (age))\n",
    "\n"
   ]
  },
  {
   "cell_type": "code",
   "execution_count": 46,
   "id": "df44f005-b649-4ec8-8351-d7d984b5881c",
   "metadata": {},
   "outputs": [
    {
     "name": "stdin",
     "output_type": "stream",
     "text": [
      " Enter Number one:  3\n",
      " Enter Number two:  2\n"
     ]
    },
    {
     "name": "stdout",
     "output_type": "stream",
     "text": [
      "The Product:  6\n"
     ]
    }
   ],
   "source": [
    "#4\n",
    "\n",
    "num1 = int (input (\" Enter Number one: \"))\n",
    "num2 = int (input (\" Enter Number two: \"))\n",
    "\n",
    "Answer = num1*num2\n",
    "print (\"The Product: \" , Answer)"
   ]
  },
  {
   "cell_type": "markdown",
   "id": "bf3399fb-03f5-4c0a-aadd-edb393efd8ea",
   "metadata": {},
   "source": [
    "# Review Questions 6\n"
   ]
  },
  {
   "cell_type": "code",
   "execution_count": 47,
   "id": "2002fe00-3450-4a97-b7fc-2310382966a0",
   "metadata": {},
   "outputs": [
    {
     "name": "stdout",
     "output_type": "stream",
     "text": [
      "-1\n"
     ]
    }
   ],
   "source": [
    "#1\n",
    "\n",
    "print(\"AAA\".find(\"a\"))"
   ]
  },
  {
   "cell_type": "code",
   "execution_count": 50,
   "id": "2a2f56a2-ac8c-415c-a41c-474547108b5d",
   "metadata": {},
   "outputs": [
    {
     "data": {
      "text/plain": [
       "'Somebody yaid yomething to Samantha'"
      ]
     },
     "execution_count": 50,
     "metadata": {},
     "output_type": "execute_result"
    }
   ],
   "source": [
    "#2\n",
    "\n",
    "phrase = \"Somebody said something to Samantha\"\n",
    "phrase.replace (\"s\" , \"y\")"
   ]
  },
  {
   "cell_type": "code",
   "execution_count": 52,
   "id": "dc9a5f7a-a2ef-4ba8-ba1d-1bb74ae8af63",
   "metadata": {},
   "outputs": [
    {
     "name": "stdin",
     "output_type": "stream",
     "text": [
      "Enter a word or sentence:  A man who can't be move \n",
      "Enter a letter to search for:  '\n"
     ]
    },
    {
     "name": "stdout",
     "output_type": "stream",
     "text": [
      "The position of ' is: 13\n"
     ]
    }
   ],
   "source": [
    "#3\n",
    "\n",
    "user_input = input(\"Enter a word or sentence: \")\n",
    "letter = input(\"Enter a letter to search for: \")\n",
    "position = user_input.find(letter)\n",
    "print(\"The position of\", letter, \"is:\", position)"
   ]
  },
  {
   "cell_type": "markdown",
   "id": "ca5139f6-070e-4e86-8a64-8c24b95aed8f",
   "metadata": {},
   "source": [
    "# Review Questions 6"
   ]
  },
  {
   "cell_type": "code",
   "execution_count": 55,
   "id": "eb31efb9-cad7-4761-b20d-fc9195ac15e0",
   "metadata": {},
   "outputs": [
    {
     "name": "stdin",
     "output_type": "stream",
     "text": [
      "Enter some phrase:  lost\n"
     ]
    },
    {
     "name": "stdout",
     "output_type": "stream",
     "text": [
      "1057\n"
     ]
    }
   ],
   "source": [
    "\n",
    "phrase = input(\"Enter some phrase: \")\n",
    "\n",
    "\n",
    "phrase = phrase.replace(\"a\", \"4\")\n",
    "phrase = phrase.replace(\"b\", \"8\")\n",
    "phrase = phrase.replace(\"e\", \"3\")\n",
    "phrase = phrase.replace(\"l\", \"1\")\n",
    "phrase = phrase.replace(\"o\", \"0\")\n",
    "phrase = phrase.replace(\"s\", \"5\")\n",
    "phrase = phrase.replace(\"t\", \"7\")\n",
    "\n",
    "\n",
    "print(phrase)\n"
   ]
  },
  {
   "cell_type": "code",
   "execution_count": null,
   "id": "ed7a37d6-9426-40f3-9ff9-f8af87b21bb7",
   "metadata": {},
   "outputs": [],
   "source": []
  }
 ],
 "metadata": {
  "kernelspec": {
   "display_name": "Python 3 (ipykernel)",
   "language": "python",
   "name": "python3"
  },
  "language_info": {
   "codemirror_mode": {
    "name": "ipython",
    "version": 3
   },
   "file_extension": ".py",
   "mimetype": "text/x-python",
   "name": "python",
   "nbconvert_exporter": "python",
   "pygments_lexer": "ipython3",
   "version": "3.13.5"
  }
 },
 "nbformat": 4,
 "nbformat_minor": 5
}
