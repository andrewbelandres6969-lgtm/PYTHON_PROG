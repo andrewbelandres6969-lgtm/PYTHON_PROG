{
 "cells": [
  {
   "cell_type": "markdown",
   "id": "5bee2539-ed6c-403a-b2f1-36552dec8fb0",
   "metadata": {},
   "source": [
    "# 1st long exam 9-10-2025"
   ]
  },
  {
   "cell_type": "markdown",
   "id": "4f019f7f-8cc2-4897-9036-964779e66973",
   "metadata": {},
   "source": [
    "# Belandres Gabriel Andrew S. ID:23768351"
   ]
  },
  {
   "cell_type": "code",
   "execution_count": null,
   "id": "9a95c0e6-2a0a-4ebc-b824-8e16eafe57f9",
   "metadata": {},
   "outputs": [],
   "source": [
    "user input = input(\"Enter your name\")\n",
    "def greet (name)\n",
    "print(f\"Hello your name is: {name}\")"
   ]
  },
  {
   "cell_type": "code",
   "execution_count": 2,
   "id": "af69dbdf-afda-40f6-88fb-6264c7659105",
   "metadata": {},
   "outputs": [
    {
     "ename": "SyntaxError",
     "evalue": "'(' was never closed (849983560.py, line 1)",
     "output_type": "error",
     "traceback": [
      "\u001b[1;36m  Cell \u001b[1;32mIn[2], line 1\u001b[1;36m\u001b[0m\n\u001b[1;33m    n = int (input(\"Enter a number\")\u001b[0m\n\u001b[1;37m            ^\u001b[0m\n\u001b[1;31mSyntaxError\u001b[0m\u001b[1;31m:\u001b[0m '(' was never closed\n"
     ]
    }
   ],
   "source": [
    "n = int (input(\"Enter a number\")\n",
    "       r=n(n+1)/2\n",
    "print (f\"The sum is : {r}\")\n"
   ]
  },
  {
   "cell_type": "code",
   "execution_count": null,
   "id": "45cda5d4-5881-40cc-8f37-613cf1ffcc34",
   "metadata": {},
   "outputs": [],
   "source": []
  }
 ],
 "metadata": {
  "kernelspec": {
   "display_name": "Python 3 (ipykernel)",
   "language": "python",
   "name": "python3"
  },
  "language_info": {
   "codemirror_mode": {
    "name": "ipython",
    "version": 3
   },
   "file_extension": ".py",
   "mimetype": "text/x-python",
   "name": "python",
   "nbconvert_exporter": "python",
   "pygments_lexer": "ipython3",
   "version": "3.13.5"
  }
 },
 "nbformat": 4,
 "nbformat_minor": 5
}
