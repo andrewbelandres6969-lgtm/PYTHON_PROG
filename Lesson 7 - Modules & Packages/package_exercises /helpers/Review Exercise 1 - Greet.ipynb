{
 "cells": [
  {
   "cell_type": "markdown",
   "id": "e4ad4fac-0c56-4d25-b1d1-218595155b01",
   "metadata": {},
   "source": [
    "# Review Exercise 1"
   ]
  },
  {
   "cell_type": "code",
   "execution_count": 1,
   "id": "e132cf89-b7cd-419b-b883-5aedb82517ce",
   "metadata": {},
   "outputs": [],
   "source": [
    "#1\n",
    "def greet(name):\n",
    "    print(f\"Hello {name}!\")"
   ]
  },
  {
   "cell_type": "code",
   "execution_count": 3,
   "id": "d4d328fd-45c8-4207-a808-1f218ea167af",
   "metadata": {},
   "outputs": [
    {
     "name": "stdout",
     "output_type": "stream",
     "text": [
      "Hello REAL PYHTON!\n"
     ]
    }
   ],
   "source": [
    "#2\n",
    "greet(\"REAL PYHTON\")"
   ]
  }
 ],
 "metadata": {
  "kernelspec": {
   "display_name": "Python [conda env:base] *",
   "language": "python",
   "name": "conda-base-py"
  },
  "language_info": {
   "codemirror_mode": {
    "name": "ipython",
    "version": 3
   },
   "file_extension": ".py",
   "mimetype": "text/x-python",
   "name": "python",
   "nbconvert_exporter": "python",
   "pygments_lexer": "ipython3",
   "version": "3.13.5"
  }
 },
 "nbformat": 4,
 "nbformat_minor": 5
}
