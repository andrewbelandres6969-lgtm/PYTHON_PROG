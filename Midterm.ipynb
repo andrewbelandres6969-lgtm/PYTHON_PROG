{
 "cells": [
  {
   "cell_type": "markdown",
   "id": "3bd3eb0d-e503-4a48-8dd2-a2578db3256b",
   "metadata": {},
   "source": [
    "# Q1. String Normalizer & Finder\n"
   ]
  },
  {
   "cell_type": "markdown",
   "id": "e88dc7d9-0e9b-41aa-97c4-fa0f0147a0e8",
   "metadata": {},
   "source": [
    "# Prompt (paste verbatim)"
   ]
  },
  {
   "cell_type": "markdown",
   "id": "8a1c0957-c5c9-4d8d-974b-1ce51d0e3568",
   "metadata": {},
   "source": [
    "\n",
    "Write a function normalize_and_find(text: str, needle: str) -> int that: (1) trims whitespace on both ends, (2) converts to lowercase, then (3) returns the index of the first occurrence of needle using a safe search (return −1 if not found). Discuss alternatives (find vs. index), and how your choice affects error handling. Anchor concepts: stripping, case conversion, find/replace, string immutability. Reference:"
   ]
  },
  {
   "cell_type": "code",
   "execution_count": 7,
   "id": "5c15af70-bcf2-4bc5-b359-ebfec503cf2b",
   "metadata": {},
   "outputs": [
    {
     "name": "stdout",
     "output_type": "stream",
     "text": [
      "The index of 'world' in '   Hello World  ' is: 6\n",
      "The index of 'python' in '   Hello World  ' is: -1\n",
      "The index of 'string' in 'Mixed Case STRING' is: 11\n"
     ]
    }
   ],
   "source": [
    "def normalize_and_find(text: str, needle: str) -> int:\n",
    "    \"\"\"\n",
    "    Normalizes a string by trimming whitespace and converting to lowercase,\n",
    "    then finds the index of the first occurrence of a needle string.\n",
    "\n",
    "    Args:\n",
    "        text: The string to normalize and search within.\n",
    "        needle: The string to search for.\n",
    "\n",
    "    Returns:\n",
    "        The index of the first occurrence of the needle in the normalized text,\n",
    "        or -1 if the needle is not found.\n",
    "    \"\"\"\n",
    "    normalized_text = text.strip().lower()\n",
    "    index = normalized_text.find(needle)\n",
    "    return index\n",
    "\n",
    "# Example usage:\n",
    "text1 = \"   Hello World  \"\n",
    "needle1 = \"world\"\n",
    "result1 = normalize_and_find(text1, needle1)\n",
    "print(f\"The index of '{needle1}' in '{text1}' is: {result1}\")\n",
    "\n",
    "text2 = \"   Hello World  \"\n",
    "needle2 = \"python\"\n",
    "result2 = normalize_and_find(text2, needle2)\n",
    "print(f\"The index of '{needle2}' in '{text2}' is: {result2}\")\n",
    "\n",
    "text3 = \"Mixed Case STRING\"\n",
    "needle3 = \"string\"\n",
    "result3 = normalize_and_find(text3, needle3)\n",
    "print(f\"The index of '{needle3}' in '{text3}' is: {result3}\")"
   ]
  },
  {
   "cell_type": "markdown",
   "id": "367cc700-66d3-44f3-bb98-8c576d62f1c3",
   "metadata": {},
   "source": [
    "# Critque"
   ]
  },
  {
   "cell_type": "markdown",
   "id": "9712b821-7537-456d-8812-0717facc323e",
   "metadata": {},
   "source": [
    "\n",
    "Correctness: Works for typical inputs. It trims and lowercases text, lowercases needle, and uses .find() which returns -1 if not found — matches spec.\n",
    "\n",
    "Edge cases / robustness: No type checks; if needle is not a string (e.g., None), it fails. Also .find() searches substring; this is intended. Behavior with empty needle — .find(\"\") returns 0 (reasonable).\n",
    "\n",
    "Complexity: O(n + m) in practice for search (string search cost) — effectively linear in text length.\n",
    "\n",
    "Readability/style: Simple and clear. Could add type hints, docstring, and explicit validation.\n",
    "\n",
    "Faithfulness: Uses strip/lower and .find() as lecture suggests. Discusses find vs index: .find returns -1, .index would raise ValueError when not found — .find is safer for this spec."
   ]
  },
  {
   "cell_type": "markdown",
   "id": "a065d81c-121d-4cf7-b7f1-945d3c2edabd",
   "metadata": {},
   "source": [
    "# Improve Code"
   ]
  },
  {
   "cell_type": "code",
   "execution_count": 14,
   "id": "9e8a094e-0952-4fd6-bcc2-e975bc3caaf8",
   "metadata": {},
   "outputs": [
    {
     "name": "stdout",
     "output_type": "stream",
     "text": [
      "6\n",
      "2\n",
      "Error: Both inputs must be strings.\n"
     ]
    }
   ],
   "source": [
    "def normalize_and_find(word, needle) -> int:\n",
    "    if not isinstance(word, str) or not isinstance(needle, str):\n",
    "        return\"Error: Both inputs must be strings.\"\n",
    "\n",
    "    word = word.strip().lower()\n",
    "    return word.find(needle.lower())\n",
    "\n",
    "\n",
    "print(normalize_and_find(\"  Hello World  \", \"world\")) \n",
    "print(normalize_and_find(\"Python\", \"thon\"))            \n",
    "print(normalize_and_find(343434, \"xyz\"))"
   ]
  },
  {
   "cell_type": "markdown",
   "id": "6ff391a0-54a3-4937-b80b-4e90a0e90154",
   "metadata": {},
   "source": [
    "Complexity: O(n) time where n = len(text) in typical substring search; O(1) extra space.\n",
    "Anchor concepts: strip(), lower(), find() — string immutability, safe search"
   ]
  },
  {
   "cell_type": "markdown",
   "id": "022404fd-fbc8-48b6-b532-bcbf010b07e0",
   "metadata": {},
   "source": [
    "#  Q2. Leetspeak Translator (Parametric).\n"
   ]
  },
  {
   "cell_type": "markdown",
   "id": "e3ab0cd4-6234-4b55-b4be-4dc36b9977b6",
   "metadata": {},
   "source": [
    "Task: Generalize our leetspeak idea: write translate(text: str, mapping: dict[str,str]) -> str that applies a mapping (e.g., {‘a’:’4’,’e’:’3’,...}) over lowercase letters only, leaving others unchanged. Explain why strings are immutable and show an efficient approach (e.g., list join vs. repeated concatenation)."
   ]
  },
  {
   "cell_type": "markdown",
   "id": "9b527980-16eb-4731-a4a5-6d9832723704",
   "metadata": {},
   "source": [
    "# Prompt (paste verbatim)"
   ]
  },
  {
   "cell_type": "markdown",
   "id": "4e1d87c3-4f6a-4bd3-82cd-56890ec6eff1",
   "metadata": {},
   "source": [
    "Generalize our leetspeak idea: write translate(text: str, mapping: dict[str,str]) -> str that applies a mapping (e.g., {'a':'4','e':'3',...}) over lowercase letters only, leaving others unchanged. Explain why strings are immutable and show an efficient approach (e.g., list join vs. repeated concatenation). Anchor concepts: replace, iteration strategies, efficiency. Reference:"
   ]
  },
  {
   "cell_type": "code",
   "execution_count": 10,
   "id": "320cf134-021a-422c-8a66-1944ba536b99",
   "metadata": {},
   "outputs": [
    {
     "name": "stdout",
     "output_type": "stream",
     "text": [
      "Translated text: h3ll0 w0rld\n"
     ]
    }
   ],
   "source": [
    "def translate(text: str, mapping: dict[str, str]) -> str:\n",
    "    \"\"\"\n",
    "    Translates a string by applying a leetspeak mapping to lowercase letters only.\n",
    "\n",
    "    Args:\n",
    "        text: The string to translate.\n",
    "        mapping: A dictionary mapping lowercase letters to their leetspeak equivalents.\n",
    "\n",
    "    Returns:\n",
    "        The translated string.\n",
    "    \"\"\"\n",
    "    translated_chars = []\n",
    "    for char in text:\n",
    "        if 'a' <= char <= 'z':\n",
    "            translated_chars.append(mapping.get(char, char))\n",
    "        else:\n",
    "            translated_chars.append(char)\n",
    "    return ''.join(translated_chars)\n",
    "\n",
    "# Example usage:\n",
    "mapping = {'a': '4', 'e': '3', 'i': '1', 'o': '0', 't': '7'}\n",
    "text = \"Hello World\"\n",
    "translated_text = translate(text.lower(), mapping)\n",
    "print(f\"Translated text: {translated_text}\")"
   ]
  },
  {
   "cell_type": "markdown",
   "id": "0de05e34-4878-469f-b8e9-8e14e97b1909",
   "metadata": {},
   "source": [
    "# Critique"
   ]
  },
  {
   "cell_type": "markdown",
   "id": "5fdf6818-bce7-46b2-9699-22c495575ba3",
   "metadata": {},
   "source": [
    "Correctness: Works but uses repeated string concatenation (result +=) which is O(n^2) in worst case due to repeated allocations for long strings.\n",
    "\n",
    "Robustness: No type checks. It lowercases to match mapping but then uses original case for non-mapped characters — spec says apply mapping over lowercase letters only; ambiguous whether uppercase should be mapped after lowercasing. Current code maps regardless of original case by checking ch.lower().\n",
    "\n",
    "Style: Lacks docstring and type hints.\n",
    "\n",
    "Performance: Use list accumulating and ''.join(...) to get O(n) performance.\n",
    "\n",
    "Faithfulness: Uses iteration and mapping as lecture suggests."
   ]
  },
  {
   "cell_type": "markdown",
   "id": "4d066d44-2fbe-4414-ae75-13739dcba3f5",
   "metadata": {},
   "source": [
    "# Improved Code"
   ]
  },
  {
   "cell_type": "code",
   "execution_count": 13,
   "id": "779d0e48-2ad4-4931-ae55-898eda8ebd89",
   "metadata": {},
   "outputs": [
    {
     "name": "stdout",
     "output_type": "stream",
     "text": [
      "Error: Text must be strings.\n",
      "Pyth0n 1s 4m4z1ng!\n"
     ]
    }
   ],
   "source": [
    "def translate(text: str, mapping: dict[str, str]) -> str:\n",
    "    \n",
    "    if not isinstance(text, str):\n",
    "        return\"Error: Text must be strings.\"\n",
    "        \n",
    "    elif not isinstance(mapping, dict) or not all(isinstance(k, str) and isinstance(v, str) for k, v in mapping.items()):\n",
    "        return \"Error: mapping must be a dictionary with string keys and string values.\"\n",
    "\n",
    "    result = []\n",
    "    for ch in text:\n",
    "        if ch in mapping:\n",
    "            result.append(mapping[ch])\n",
    "        else:\n",
    "            result.append(ch)\n",
    "    return ''.join(result)\n",
    "\n",
    "mapping = {'a': '4', 'e': '3', 'i': '1', 'o': '0'}\n",
    "print(translate(32113123, mapping))\n",
    "print(translate(\"Python is amazing!\", mapping)) "
   ]
  },
  {
   "cell_type": "markdown",
   "id": "d56b2cc2-10fd-4600-bc77-599fea64ff5e",
   "metadata": {},
   "source": [
    "Complexity: O(n) time and O(n) extra space for result. Using list + join avoids quadratic behavior.\n",
    "Anchor concepts: iteration, join vs concatenation, str.islower()."
   ]
  },
  {
   "cell_type": "markdown",
   "id": "cffe0398-a0e3-4f44-9ef3-5463c0cb881f",
   "metadata": {},
   "source": [
    "# Q3. Currency Formatter & Rounding Ties-to-Even"
   ]
  },
  {
   "cell_type": "markdown",
   "id": "6e100d35-5e5b-40e3-a8d8-303bdbce6223",
   "metadata": {},
   "source": [
    "# Prompt (paste verbatim)"
   ]
  },
  {
   "cell_type": "markdown",
   "id": "ec069f6c-30a9-4cf5-bb65-6b8f9c018589",
   "metadata": {},
   "source": [
    "Write fmt_money(x: float) -> str that returns a string like 1,234.50 using proper rounding (banker’s rounding / ties-to-even). Include test cases that demonstrate ties (e.g., 2.5, 3.5). Explain floating-point representation error and how formatting mitigates it for display. Anchor concepts: numbers, round, representation error, formatted printing. Reference:"
   ]
  },
  {
   "cell_type": "code",
   "execution_count": 2,
   "id": "79ac062b-9a76-45c0-b8f7-66c9879a94d2",
   "metadata": {},
   "outputs": [
    {
     "name": "stdout",
     "output_type": "stream",
     "text": [
      "1,234.57\n",
      "2.50\n",
      "3.50\n",
      "1,234,567.89\n"
     ]
    }
   ],
   "source": [
    "def fmt_money(x: float) -> str:\n",
    "    \"\"\"\n",
    "    Formats a float as a currency string with proper rounding (ties-to-even).\n",
    "\n",
    "    Args:\n",
    "        x: The float to format.\n",
    "\n",
    "    Returns:\n",
    "        A string like \"1,234.50\".\n",
    "    \"\"\"\n",
    "    rounded = round(x, 2)\n",
    "    return \"{:,.2f}\".format(rounded)\n",
    "\n",
    "# Test cases\n",
    "print(fmt_money(1234.567))\n",
    "print(fmt_money(2.5))\n",
    "print(fmt_money(3.5))\n",
    "print(fmt_money(1234567.89))"
   ]
  },
  {
   "cell_type": "markdown",
   "id": "73496b21-a35f-407e-9edd-6b188da63688",
   "metadata": {},
   "source": [
    "# Critique"
   ]
  },
  {
   "cell_type": "markdown",
   "id": "8849a6c3-e474-4a31-ba5e-de3470418768",
   "metadata": {},
   "source": [
    "Correctness: f-string :,.2f uses Python’s round() semantics which is ties-to-even for round() in Python and for formatting, so this generally satisfies banker’s rounding. However direct floats can exhibit representation errors (e.g., 2.675).\n",
    "\n",
    "Robustness: Using floats can produce surprising results for values that are not exactly representable. For exact decimal rounding control (e.g., for currency), decimal.Decimal with ROUND_HALF_EVEN is preferred.\n",
    "\n",
    "Complexity: trivial O(1).\n",
    "\n",
    "Style: No type hints or docstring."
   ]
  },
  {
   "cell_type": "markdown",
   "id": "081ad4aa-f1ab-4f0a-9f89-0542cbd5b729",
   "metadata": {},
   "source": [
    "# Improve Code"
   ]
  },
  {
   "cell_type": "code",
   "execution_count": 20,
   "id": "5f606263-0bbd-4f04-ab7f-3be4aafb92a4",
   "metadata": {},
   "outputs": [
    {
     "name": "stdout",
     "output_type": "stream",
     "text": [
      "1234.5 → 1,234.50\n",
      "2.5 → 2.50\n",
      "3.5 → 3.50\n",
      "2.675 → 2.68\n"
     ]
    }
   ],
   "source": [
    "\n",
    "from decimal import Decimal, ROUND_HALF_EVEN\n",
    "\n",
    "def fmt_money(x):\n",
    "    \"\"\"Format any number as currency with two decimals and ties-to-even rounding.\"\"\"\n",
    "    # Use Decimal to avoid floating point rounding errors\n",
    "    x = Decimal(str(x))\n",
    "    rounded = x.quantize(Decimal(\"0.01\"), rounding=ROUND_HALF_EVEN)\n",
    "    return f\"{rounded:,.2f}\"\n",
    "\n",
    "# Example outputs\n",
    "\n",
    "for val in [1234.5, 2.5, 3.5, 2.675]:\n",
    "    print(f\"{val} → {fmt_money(val)}\")\n"
   ]
  },
  {
   "cell_type": "markdown",
   "id": "0767fbde-06a2-42ea-b861-185282e7e754",
   "metadata": {},
   "source": [
    "Notes about floating point: Binary floating-point cannot represent many decimal fractions exactly (e.g., 0.1). Converting via Decimal(str(f)) preserves the decimal literal the user expects and Decimal.quantize(..., ROUND_HALF_EVEN) enforces banker’s rounding for display.\n",
    "Complexity: O(1).\n",
    "Anchor concepts: decimal.Decimal, quantize with ROUND_HALF_EVEN, formatted printing."
   ]
  },
  {
   "cell_type": "markdown",
   "id": "fdb4b96f-7d82-4cfd-8f78-5a5d407a503c",
   "metadata": {},
   "source": [
    "# Q4. Exponent Tool & Input Validation (CLI)"
   ]
  },
  {
   "cell_type": "markdown",
   "id": "4ace38c4-d8eb-4991-997f-c40e1090a9da",
   "metadata": {},
   "source": [
    "# Prompt (paste verbatim)"
   ]
  },
  {
   "cell_type": "markdown",
   "id": "c39e0fd9-966d-4eb0-9078-f8a63e455534",
   "metadata": {},
   "source": [
    "Create a CLI program exponent.py that reads two values, validates they are numeric, handles errors gracefully (e.g., ValueError), and prints a ** b with clear messages. Compare using try/except vs. pre-validation with str.isdigit() (and why isdigit() is insufficient for negatives/floats). Anchor concepts: arithmetic operators, exceptions, input. Reference:"
   ]
  },
  {
   "cell_type": "code",
   "execution_count": 21,
   "id": "f86cca5a-262c-4313-83fc-318b6a131870",
   "metadata": {},
   "outputs": [
    {
     "name": "stdin",
     "output_type": "stream",
     "text": [
      "Enter base:  12\n",
      "Enter exponent:  3\n"
     ]
    },
    {
     "name": "stdout",
     "output_type": "stream",
     "text": [
      "1728.0\n"
     ]
    }
   ],
   "source": [
    "def exponent():\n",
    "    a = input(\"Enter base: \")\n",
    "    b = input(\"Enter exponent: \")\n",
    "    try:\n",
    "        a = float(a)\n",
    "        b = float(b)\n",
    "        print(a ** b)\n",
    "    except ValueError:\n",
    "        print(\"Please enter numeric values.\")\n",
    "\n",
    "if __name__ == \"__main__\":\n",
    "    exponent()\n"
   ]
  },
  {
   "cell_type": "markdown",
   "id": "a134899a-614f-40d0-98d7-013384196310",
   "metadata": {},
   "source": [
    "# Critique"
   ]
  },
  {
   "cell_type": "markdown",
   "id": "543374e6-ba7d-4de4-ba3d-8182317473b5",
   "metadata": {},
   "source": [
    "Correctness: Works and uses try/except to parse floats — handles negatives and non-integers.\n",
    "\n",
    "Robustness: No special handling for extremely large exponents or complex results (e.g., negative base fractional exponent yields complex). Could catch OverflowError and ValueError. Also CLI should show clearer messages and allow repeated tries/quit option.\n",
    "\n",
    "isdigit() note: str.isdigit() returns False for -3 and 3.5, so pre-validation using isdigit() is insufficient; try/except parsing to float/manually regexp is preferred."
   ]
  },
  {
   "cell_type": "markdown",
   "id": "14eb6f92-e008-4512-aef1-c759b51886cf",
   "metadata": {},
   "source": [
    "# Improve Code"
   ]
  },
  {
   "cell_type": "code",
   "execution_count": 32,
   "id": "ab002363-0833-44a8-b4f7-46d66dc91b23",
   "metadata": {},
   "outputs": [
    {
     "name": "stdout",
     "output_type": "stream",
     "text": [
      "Q4 RESULTS:\n",
      "2 ** 10 = 1024\n",
      "5 ** -2 = 0.04\n",
      "999 ** 999 = 368063488259223267894700840060521865838338232037353204655959621437025609300472231530103873614505175218691345257589896391130393189447969771645832382192366076536631132001776175977932178658703660778465765811830827876982014124022948671975678131724958064427949902810498973271030787716781467419524180040734398996952930832508934116945966120176735120823151959779536852290090377452502236990839453416790640456116471139751546750048602189291028640970574762600185950226138244530187489211615864021135312077912018844630780307462205252807737757672094320692373101032517459518497524015120165166724189816766397247824175394802028228160027100623998873667435799073054618906855460488351426611310634023489044291860510352301912426608488807462312126590206830413782664554260411266378866626653755763627796569082931785645600816236891168141774993267488171702172191072731069216881668294625679492696148976999868715671440874206427212056717373099639711168901197440416590226524192782842896415414611688187391232048327738965820265934093108172054875188246591760877131657895633586576611857277011782497943522945011248430439201297015119468730712364007639373910811953430309476832453230123996750235710787086641070310288725389595138936784715274150426495416196669832679980253436807864187160054589045664027158817958549374490512399055448819148487049363674611664609890030088549591992466360050042566270348330911795487647045949301286614658650071299695652245266080672989921799342509291635330827874264789587306974472327718704306352445925996155619153783913237212716010410294999877569745287353422903443387562746452522860420416689019732913798073773281533570910205207767157128174184873357050830752777900041943256738499067821488421053870869022738698816059810579221002560882999884763252161747566893835178558961142349304466506402373556318707175710866983035313122068321102457824112014969387225476259342872866363550383840720010832906695360553556647545295849966279980830561242960013654529514995113584909050813015198928283202189194615501403435553060147713139766323195743324848047347575473228198492343231496580885057330510949058490527738662697480293583612233134502078182014347192522391449087738579081585795613547198599661273567662441490401862839817822686573112998663038868314974259766039340894024308383451039874674061160538242392803580758232755749310843694194787991556647907091849600704712003371103926967137408125713631396699343733288014254084819379380555174777020843568689927348949484201042595271932630685747613835385434424807024615161848223715989797178155169951121052285149157137697718850449708843330475301440373094611119631361702936342263219382793996895988331701890693689862459020775599439506870005130750427949747071390095256759203426671803377068109744629909769176319526837824364926844730545524646494321826241925107158040561607706364484910978348669388142016838792902926158979355432483611517588605967745393958061959024834251565197963477521095821435651996730128376734574843289089682710350244222290017891280419782767803785277960834729869249991658417000499998999\n"
     ]
    }
   ],
   "source": [
    "# Q4 - Exponent Calculator with Error Handling\n",
    "\n",
    "def exponent(a: float, b: float) -> float:\n",
    "    \"\"\"Return a raised to the power of b safely.\"\"\"\n",
    "    try:\n",
    "        result = a ** b\n",
    "        return result\n",
    "    except OverflowError:\n",
    "        print(\"Error: Result too large.\")\n",
    "        return float('inf')\n",
    "    except Exception:\n",
    "        print(\"Error: Invalid operation.\")\n",
    "        return None\n",
    "\n",
    "# Example outputs\n",
    "print(\"Q4 RESULTS:\")\n",
    "print(\"2 ** 10 =\", exponent(2, 10))\n",
    "print(\"5 ** -2 =\", exponent(5, -2))\n",
    "print(\"999 ** 999 =\", exponent(999, 999))\n"
   ]
  },
  {
   "cell_type": "markdown",
   "id": "5d5fcf6f-fbab-48ab-8902-ca93f551b4ee",
   "metadata": {},
   "source": [
    "Complexity: Parsing and exponentiation depends on operand magnitudes; parsing O(len(string)).\n",
    "Anchor concepts: exceptions vs pre-validation; isdigit() is insufficient because it rejects - and decimals."
   ]
  },
  {
   "cell_type": "markdown",
   "id": "ee86f7b5-400c-4c8a-a052-f37fef68ada9",
   "metadata": {},
   "source": [
    "# Q5. Password Policy Checker"
   ]
  },
  {
   "cell_type": "markdown",
   "id": "122ecc73-f83e-4e2f-b61f-25c255222fa0",
   "metadata": {},
   "source": [
    "# Prompt (paste verbatim)"
   ]
  },
  {
   "cell_type": "markdown",
   "id": "4bbea128-2677-4817-8577-69e7856c0851",
   "metadata": {},
   "source": [
    "Implement check_password(pw: str) -> dict that validates: length ≥ 10, at least one uppercase, one lowercase, one digit, one symbol in !@#$%^&*, and no spaces. Return a dict of booleans per rule and an overall pass/fail. Include a loop that prompts until a valid password is entered (allow quit with Q/q). Anchor concepts: conditionals, logical operators, loops, break/continue. Reference:"
   ]
  },
  {
   "cell_type": "code",
   "execution_count": 22,
   "id": "30349540-ddb1-4d0e-8470-a46fe17a40d4",
   "metadata": {},
   "outputs": [
    {
     "name": "stdin",
     "output_type": "stream",
     "text": [
      "Enter password (Q to quit):  abe\n"
     ]
    },
    {
     "name": "stdout",
     "output_type": "stream",
     "text": [
      "{'length': False, 'upper': False, 'lower': True, 'digit': False, 'symbol': False, 'no_space': True, 'pass': False}\n"
     ]
    },
    {
     "name": "stdin",
     "output_type": "stream",
     "text": [
      "Enter password (Q to quit):  q\n"
     ]
    }
   ],
   "source": [
    "def check_password(pw):\n",
    "    res = {}\n",
    "    res['length'] = len(pw) >= 10\n",
    "    res['upper'] = any(c.isupper() for c in pw)\n",
    "    res['lower'] = any(c.islower() for c in pw)\n",
    "    res['digit'] = any(c.isdigit() for c in pw)\n",
    "    res['symbol'] = any(c in \"!@#$%^&*\" for c in pw)\n",
    "    res['no_space'] = ' ' not in pw\n",
    "    res['pass'] = all(res.values())\n",
    "    return res\n",
    "\n",
    "while True:\n",
    "    p = input(\"Enter password (Q to quit): \")\n",
    "    if p.lower() == 'q':\n",
    "        break\n",
    "    r = check_password(p)\n",
    "    print(r)\n",
    "    if r['pass']:\n",
    "        print(\"Password accepted.\")\n",
    "        break\n"
   ]
  },
  {
   "cell_type": "markdown",
   "id": "2bb5e6c8-8e6c-494d-923f-7251737c3029",
   "metadata": {},
   "source": [
    "# Critique"
   ]
  },
  {
   "cell_type": "markdown",
   "id": "91acb11f-2158-49c9-92b6-8d6a8f95dfe4",
   "metadata": {},
   "source": [
    "Correctness: Logic is correct. res['pass'] = all(res.values()) will include 'pass' key itself if evaluated after insertion — but above insertion happens after other keys so it's fine. But all(res.values()) includes all keys currently present — after insertion of 'pass' it would create recursion; current order avoids that. Safer to explicitly check rule keys.\n",
    "\n",
    "Robustness: Good. Could add type checks and clearer messages per failed rule. Also ensure special symbols set is parameterized.\n",
    "\n",
    "Style: Could use clearer names, docstrings."
   ]
  },
  {
   "cell_type": "markdown",
   "id": "2186b4e4-fb63-42b5-a293-0674c4c8a593",
   "metadata": {},
   "source": [
    "# Improved Code"
   ]
  },
  {
   "cell_type": "code",
   "execution_count": 34,
   "id": "3d692284-3194-4156-aeba-f9ec2bade8ec",
   "metadata": {},
   "outputs": [
    {
     "name": "stdout",
     "output_type": "stream",
     "text": [
      "Password: MyPass123!\n",
      "Check results: {'length': True, 'uppercase': True, 'lowercase': True, 'digit': True, 'symbol': True, 'no_space': True, 'pass': True}\n"
     ]
    }
   ],
   "source": [
    "# Q5 - Password Strength Checker\n",
    "\n",
    "def check_password(pw: str) -> dict:\n",
    "    \"\"\"Check if the password meets the security requirements.\"\"\"\n",
    "    SYMBOLS = \"!@#$%^&*\"\n",
    "    results = {\n",
    "        \"length\": len(pw) >= 10,\n",
    "        \"uppercase\": any(c.isupper() for c in pw),\n",
    "        \"lowercase\": any(c.islower() for c in pw),\n",
    "        \"digit\": any(c.isdigit() for c in pw),\n",
    "        \"symbol\": any(c in SYMBOLS for c in pw),\n",
    "        \"no_space\": \" \" not in pw,\n",
    "    }\n",
    "    results[\"pass\"] = all(results.values())\n",
    "    return results\n",
    "\n",
    "# Example test\n",
    "\n",
    "sample = \"MyPass123!\"\n",
    "print(f\"Password: {sample}\")\n",
    "print(\"Check results:\", check_password(sample))\n"
   ]
  },
  {
   "cell_type": "markdown",
   "id": "7df5f8b0-0aeb-4137-b3f3-7b952679a87f",
   "metadata": {},
   "source": [
    "Complexity: O(n) per check with n = len(password).\n",
    "Anchor concepts: conditionals, any(), loops."
   ]
  },
  {
   "cell_type": "markdown",
   "id": "44c4d76e-6775-4714-b75f-fe68d60ef92a",
   "metadata": {},
   "source": [
    "# Q6. Dice Simulation (Monte Carlo)"
   ]
  },
  {
   "cell_type": "markdown",
   "id": "beda696b-9ad7-44a2-bdac-aca882998cde",
   "metadata": {},
   "source": [
    "# Prompt (paste verbatim)"
   ]
  },
  {
   "cell_type": "markdown",
   "id": "b67fdcd0-5ef3-4924-bdb8-f4c3048ffb6a",
   "metadata": {},
   "source": [
    "Write roll() -> int to simulate a fair die, then simulate 100,000 rolls to estimate the probability that the sum of two dice equals 7. Compare empirical result to the exact probability. Comment on random seeding and reproducibility. Anchor concepts: random module, simulation, averages. Reference"
   ]
  },
  {
   "cell_type": "code",
   "execution_count": 24,
   "id": "64b6914a-9825-43c6-b63e-0d8c5cee5947",
   "metadata": {},
   "outputs": [
    {
     "name": "stdout",
     "output_type": "stream",
     "text": [
      "0.16525\n"
     ]
    }
   ],
   "source": [
    "import random\n",
    "\n",
    "def roll():\n",
    "    return random.randint(1,6)\n",
    "\n",
    "def estimate(n=100000):\n",
    "    count = 0\n",
    "    for _ in range(n):\n",
    "        if roll() + roll() == 7:\n",
    "            count += 1\n",
    "    return count / n\n",
    "\n",
    "print(estimate())\n"
   ]
  },
  {
   "cell_type": "markdown",
   "id": "aa9c1560-0e5e-4904-95dd-a39e78ee3ed2",
   "metadata": {},
   "source": [
    "# Critique"
   ]
  },
  {
   "cell_type": "markdown",
   "id": "2187d3bf-206e-49f7-ac80-fbb9ed6425fc",
   "metadata": {},
   "source": [
    "Correctness: Correct simulation. random.randint(1,6) is inclusive and fair.\n",
    "\n",
    "Complexity: O(n) time.\n",
    "\n",
    "Reproducibility: Without random.seed(...) runs differ. If reproducibility desired, user should seed RNG with a fixed seed.\n",
    "\n",
    "Exact probability: For two fair dice, number of outcomes with sum 7 = 6 (1+6,2+5,...,6+1) out of 36 -> 6/36 = 1/6 ≈ 0.1666667."
   ]
  },
  {
   "cell_type": "markdown",
   "id": "98a8f728-924f-4fbc-b4f6-5eb320dbc9d1",
   "metadata": {},
   "source": [
    "# Improve Code"
   ]
  },
  {
   "cell_type": "code",
   "execution_count": 35,
   "id": "63d7ef9f-4491-4ac4-85f8-f5f80789572c",
   "metadata": {},
   "outputs": [
    {
     "name": "stdout",
     "output_type": "stream",
     "text": [
      "Estimated Probability (sum=7): 0.1656\n",
      "Expected Probability: 0.1667\n"
     ]
    }
   ],
   "source": [
    "# Q6 - Dice Probability Simulation\n",
    "\n",
    "import random\n",
    "\n",
    "def roll() -> int:\n",
    "    \"\"\"Simulate rolling one six-sided die.\"\"\"\n",
    "    return random.randint(1, 6)\n",
    "\n",
    "def estimate_prob_sum7(trials: int = 100_000) -> float:\n",
    "    \"\"\"Estimate the probability that the sum of two dice equals 7.\"\"\"\n",
    "    count = 0\n",
    "    for _ in range(trials):\n",
    "        if roll() + roll() == 7:\n",
    "            count += 1\n",
    "    return count / trials\n",
    "\n",
    "empirical = estimate_prob_sum7(10_000)\n",
    "print(f\"Estimated Probability (sum=7): {empirical:.4f}\")\n",
    "print(\"Expected Probability: 0.1667\")\n"
   ]
  },
  {
   "cell_type": "markdown",
   "id": "78ea2c43-d020-4c3e-9a4f-3f2dc3349c3d",
   "metadata": {},
   "source": [
    "Notes on seeding: Calling random.seed(some_int) makes the sequence deterministic — good for reproducible tests, bad if you need real randomness.\n",
    "Complexity: O(trials).\n",
    "Anchor concepts: random.randint, Monte Carlo estimation\n"
   ]
  },
  {
   "cell_type": "markdown",
   "id": "174932a9-98a7-4f71-8d8a-3002a58774e6",
   "metadata": {},
   "source": [
    "# Q7. OOP: Vehicles with Odometer and Fuel"
   ]
  },
  {
   "cell_type": "markdown",
   "id": "20acbae4-864a-404d-a2a5-69d6dc1de5b5",
   "metadata": {},
   "source": [
    "# Prompt (paste verbatim)"
   ]
  },
  {
   "cell_type": "markdown",
   "id": "a41a6e21-ecc2-4ad6-a07d-0465eb1706f9",
   "metadata": {},
   "source": [
    "Design classes Vehicle (base), Car and Truck (children). Each has color, mileage, and fuel_liters. Provide drive(km, km_per_liter) which increments mileage and decreases fuel (never below 0) and refuel(liters). Show how inheritance avoids duplication and add a method override in Truck (e.g., different efficiency). Include a minimal test script. Anchor concepts: classes vs. instances, attributes, instance methods, inheritance/override. Reference:"
   ]
  },
  {
   "cell_type": "code",
   "execution_count": 25,
   "id": "986f0090-bb0f-476f-b63f-964fcbc41f9f",
   "metadata": {},
   "outputs": [
    {
     "name": "stdout",
     "output_type": "stream",
     "text": [
      "100\n",
      "100\n"
     ]
    }
   ],
   "source": [
    "class Vehicle:\n",
    "    def __init__(self, color, mileage, fuel_liters):\n",
    "        self.color = color\n",
    "        self.mileage = mileage\n",
    "        self.fuel_liters = fuel_liters\n",
    "\n",
    "    def drive(self, km, km_per_liter):\n",
    "        needed = km / km_per_liter\n",
    "        if needed > self.fuel_liters:\n",
    "            # drive as far as fuel allows\n",
    "            actual_km = self.fuel_liters * km_per_liter\n",
    "            self.mileage += actual_km\n",
    "            self.fuel_liters = 0\n",
    "            return actual_km\n",
    "        else:\n",
    "            self.mileage += km\n",
    "            self.fuel_liters -= needed\n",
    "            return km\n",
    "\n",
    "    def refuel(self, liters):\n",
    "        self.fuel_liters += liters\n",
    "\n",
    "class Car(Vehicle):\n",
    "    pass\n",
    "\n",
    "class Truck(Vehicle):\n",
    "    def drive(self, km, km_per_liter):\n",
    "        # truck less efficient 10% penalty\n",
    "        effective_kmpl = km_per_liter * 0.9\n",
    "        return super().drive(km, effective_kmpl)\n",
    "\n",
    "# test\n",
    "c = Car(\"red\", 10000, 50)\n",
    "print(c.drive(100, 10))\n",
    "t = Truck(\"blue\", 20000, 50)\n",
    "print(t.drive(100, 10))\n"
   ]
  },
  {
   "cell_type": "markdown",
   "id": "814df7fa-b5d7-4812-b8b4-32e3e08b84f3",
   "metadata": {},
   "source": [
    "# Critique"
   ]
  },
  {
   "cell_type": "markdown",
   "id": "fa866d0c-b00e-485d-b559-031abf4d968b",
   "metadata": {},
   "source": [
    "Correctness: Works logically. Truck overrides drive to reduce efficiency.\n",
    "\n",
    "Edge cases: No input validation for km_per_liter <= 0 causes division by zero. refuel lacks max-fuel capacity (not requested). Returns actual_km in partial-drive case — consistent and useful.\n",
    "\n",
    "Style: No type hints/docstrings.\n",
    "\n",
    "Faithfulness: Shows inheritance and override."
   ]
  },
  {
   "cell_type": "markdown",
   "id": "998aedec-afae-4638-96bc-469453d837e2",
   "metadata": {},
   "source": [
    "# Improved Code\n"
   ]
  },
  {
   "cell_type": "code",
   "execution_count": 36,
   "id": "0780edab-164c-4cb6-a871-f4f6900b63bd",
   "metadata": {},
   "outputs": [
    {
     "name": "stdout",
     "output_type": "stream",
     "text": [
      "Car mileage=10100, fuel left=40.0\n",
      "Truck mileage=20100, fuel left=38.888888888888886\n"
     ]
    }
   ],
   "source": [
    "# Q7 - Vehicle, Car, and Truck Classes\n",
    "\n",
    "class Vehicle:\n",
    "    def __init__(self, color: str, mileage=0.0, fuel_liters=0.0):\n",
    "        self.color = color\n",
    "        self.mileage = mileage\n",
    "        self.fuel_liters = fuel_liters\n",
    "\n",
    "    def drive(self, km: float, km_per_liter: float):\n",
    "        \"\"\"Drive given km, update mileage and fuel.\"\"\"\n",
    "        needed = km / km_per_liter\n",
    "        if needed > self.fuel_liters:\n",
    "            actual = self.fuel_liters * km_per_liter\n",
    "            self.mileage += actual\n",
    "            self.fuel_liters = 0\n",
    "            return actual\n",
    "        else:\n",
    "            self.mileage += km\n",
    "            self.fuel_liters -= needed\n",
    "            return km\n",
    "\n",
    "    def refuel(self, liters: float):\n",
    "        self.fuel_liters += liters\n",
    "\n",
    "\n",
    "class Car(Vehicle):\n",
    "    pass\n",
    "\n",
    "\n",
    "class Truck(Vehicle):\n",
    "    \"\"\"Truck uses 10% more fuel (less efficient).\"\"\"\n",
    "    def drive(self, km: float, km_per_liter: float):\n",
    "        effective = km_per_liter * 0.9\n",
    "        return super().drive(km, effective)\n",
    "\n",
    "\n",
    "# Example test\n",
    "car = Car(\"Red\", 10000, 50)\n",
    "truck = Truck(\"Blue\", 20000, 50)\n",
    "car.drive(100, 10)\n",
    "truck.drive(100, 10)\n",
    "print(f\"Car mileage={car.mileage}, fuel left={car.fuel_liters}\")\n",
    "print(f\"Truck mileage={truck.mileage}, fuel left={truck.fuel_liters}\")\n"
   ]
  },
  {
   "cell_type": "markdown",
   "id": "15102531-4626-494f-938a-800acade148b",
   "metadata": {},
   "source": [
    "Design note: Inheritance avoids duplicating drive / refuel logic; Truck overrides only what changes (efficiency). Validate inputs to avoid division by zero.\n",
    "Complexity: O(1) per method.\n",
    "Anchor concepts: classes, inheritance, override."
   ]
  },
  {
   "cell_type": "markdown",
   "id": "bfb01a8f-138a-48aa-90ab-a4e18886a81a",
   "metadata": {},
   "source": [
    "# Q8. OOP + Composition: Kennel with Dogs"
   ]
  },
  {
   "cell_type": "markdown",
   "id": "6d6a03f1-c385-47c3-b00f-953dda77a28f",
   "metadata": {},
   "source": [
    "# Prompt (paste verbatim)\n"
   ]
  },
  {
   "cell_type": "markdown",
   "id": "d7a70833-8e26-498d-96bc-8058989f108b",
   "metadata": {},
   "source": [
    "Using a Dog class (name, age, breed, bark()), implement a Kennel manager that holds multiple Dog instances, supports add_dog, remove_dog, oldest_dog(), and find_by_breed(breed). Compare composition vs. inheritance for this scenario. Anchor concepts: OOP design, managing collections of objects. Reference: "
   ]
  },
  {
   "cell_type": "code",
   "execution_count": 27,
   "id": "ef614dd0-4031-4d43-a326-64444436966f",
   "metadata": {},
   "outputs": [
    {
     "name": "stdout",
     "output_type": "stream",
     "text": [
      "Rex\n"
     ]
    }
   ],
   "source": [
    "class Dog:\n",
    "    def __init__(self, name, age, breed):\n",
    "        self.name = name\n",
    "        self.age = age\n",
    "        self.breed = breed\n",
    "    def bark(self):\n",
    "        return \"Woof!\"\n",
    "\n",
    "class Kennel:\n",
    "    def __init__(self):\n",
    "        self.dogs = []\n",
    "    def add_dog(self, dog):\n",
    "        self.dogs.append(dog)\n",
    "    def remove_dog(self, name):\n",
    "        self.dogs = [d for d in self.dogs if d.name != name]\n",
    "    def oldest_dog(self):\n",
    "        return max(self.dogs, key=lambda d: d.age)\n",
    "    def find_by_breed(self, breed):\n",
    "        return [d for d in self.dogs if d.breed == breed]\n",
    "\n",
    "k = Kennel()\n",
    "k.add_dog(Dog(\"Fido\", 5, \"Labrador\"))\n",
    "k.add_dog(Dog(\"Rex\", 7, \"Beagle\"))\n",
    "print(k.oldest_dog().name)\n"
   ]
  },
  {
   "cell_type": "markdown",
   "id": "28666ab0-6583-4c8a-9bd6-b155a15822ab",
   "metadata": {},
   "source": [
    "# Critique"
   ]
  },
  {
   "cell_type": "markdown",
   "id": "54f226f3-9462-4dad-8288-33ddf4b0b83d",
   "metadata": {},
   "source": [
    "Correctness: Basic functions implemented. remove_dog removes all dogs with same name; may want to return whether removal happened or remove only first. oldest_dog will raise ValueError on empty kennel — should handle empty case.\n",
    "\n",
    "Composition vs inheritance: Kennel has Dogs — composition is correct. Using inhe\n",
    "ritance (Kennel is-a Dog) would be incorrect."
   ]
  },
  {
   "cell_type": "markdown",
   "id": "68c112dd-4ade-4983-82ee-bb84ca6f9879",
   "metadata": {},
   "source": [
    "# Improved Code"
   ]
  },
  {
   "cell_type": "code",
   "execution_count": 37,
   "id": "78b2a846-e633-4d49-8f5c-bccb2ef5cdec",
   "metadata": {},
   "outputs": [
    {
     "name": "stdout",
     "output_type": "stream",
     "text": [
      "All Dogs: [Fido (Labrador, 5y), Max (Beagle, 8y), Bella (Labrador, 2y)]\n",
      "Oldest Dog: Max (Beagle, 8y)\n",
      "Find by Breed (Labrador): [Fido (Labrador, 5y), Bella (Labrador, 2y)]\n"
     ]
    }
   ],
   "source": [
    "# Q8 - Kennel and Dog Management (Composition)\n",
    "\n",
    "class Dog:\n",
    "    def __init__(self, name: str, age: float, breed: str):\n",
    "        self.name, self.age, self.breed = name, age, breed\n",
    "\n",
    "    def bark(self):\n",
    "        return \"Woof!\"\n",
    "\n",
    "    def __repr__(self):\n",
    "        return f\"{self.name} ({self.breed}, {self.age}y)\"\n",
    "\n",
    "\n",
    "class Kennel:\n",
    "    def __init__(self):\n",
    "        self.dogs = []\n",
    "\n",
    "    def add_dog(self, dog: Dog):\n",
    "        self.dogs.append(dog)\n",
    "\n",
    "    def oldest_dog(self):\n",
    "        return max(self.dogs, key=lambda d: d.age, default=None)\n",
    "\n",
    "    def find_breed(self, breed: str):\n",
    "        return [d for d in self.dogs if d.breed.lower() == breed.lower()]\n",
    "\n",
    "\n",
    "# Example test\n",
    "kennel = Kennel()\n",
    "kennel.add_dog(Dog(\"Fido\", 5, \"Labrador\"))\n",
    "kennel.add_dog(Dog(\"Max\", 8, \"Beagle\"))\n",
    "kennel.add_dog(Dog(\"Bella\", 2, \"Labrador\"))\n",
    "print(\"All Dogs:\", kennel.dogs)\n",
    "print(\"Oldest Dog:\", kennel.oldest_dog())\n",
    "print(\"Find by Breed (Labrador):\", kennel.find_breed(\"Labrador\"))\n"
   ]
  },
  {
   "cell_type": "markdown",
   "id": "51cd1229-9687-44c2-a114-6fda8412ec77",
   "metadata": {},
   "source": [
    "Composition vs inheritance: Kennel contains Dog instances (composition). Inheritance would imply Kennel is a Dog — wrong modeling and would mix responsibilities. Composition is preferred for managing collections.\n",
    "Complexity: add_dog O(1), remove_dog O(n), oldest_dog O(n).\n",
    "Anchor concepts: composition, collections, list operations."
   ]
  },
  {
   "cell_type": "markdown",
   "id": "b042d06a-e2a7-4524-9e6e-34928e3098af",
   "metadata": {},
   "source": [
    "# Q9. Modules and Packages: Helpers"
   ]
  },
  {
   "cell_type": "markdown",
   "id": "4b7ae8ac-af6d-4c0b-bc34-09c18acf169b",
   "metadata": {},
   "source": [
    "# Prompt (paste verbatim)"
   ]
  },
  {
   "cell_type": "markdown",
   "id": "368849fa-fc7c-4dc2-b5ad-2b166be1066c",
   "metadata": {},
   "source": [
    "Create a package helpers/ with modules string_utils.py (function shout(s) uppercases) and math_utils.py (function area(l,w)). Then a main.py that imports with both import ... as ... and from ... import .... Explain namespace collisions and why aliases help. Anchor concepts: modules, packages, import variations, namespaces. Reference: "
   ]
  },
  {
   "cell_type": "code",
   "execution_count": null,
   "id": "e1067c5d-fd30-43ca-b35b-345d604912ac",
   "metadata": {},
   "outputs": [],
   "source": [
    "# helpers/string_utils.py\n",
    "def shout(s):\n",
    "    return s.upper()\n",
    "\n",
    "# helpers/math_utils.py\n",
    "def area(l, w):\n",
    "    return l * w\n",
    "\n",
    "# main.py\n",
    "import helpers.string_utils as su\n",
    "from helpers.math_utils import area\n",
    "\n",
    "print(su.shout(\"hello\"))\n",
    "print(area(2,3))\n"
   ]
  },
  {
   "cell_type": "markdown",
   "id": "f2ebc212-e6d0-4b55-821e-670ba740acd3",
   "metadata": {},
   "source": [
    "# Critique"
   ]
  },
  {
   "cell_type": "markdown",
   "id": "c759b31e-5a1b-4e11-adfd-cd85175f568d",
   "metadata": {},
   "source": [
    "Correctness: Structure is valid. import helpers.string_utils as su gives alias su. from ... import area brings area directly into main namespace.\n",
    "\n",
    "Namespace collisions: Using from module import name can overwrite local names if name conflicts exist; aliasing helps avoid long names and collisions. Using import module as alias keeps module namespace contained.\n",
    "\n",
    "Style: Add __init__.py in package. Add type hints/docstrings."
   ]
  },
  {
   "cell_type": "markdown",
   "id": "49f283f2-8339-4aca-b692-8db990023e01",
   "metadata": {},
   "source": [
    "# Improved Code "
   ]
  },
  {
   "cell_type": "code",
   "execution_count": 42,
   "id": "b7df7586-bf31-428d-b3f9-af51ba0bc767",
   "metadata": {},
   "outputs": [
    {
     "name": "stdout",
     "output_type": "stream",
     "text": [
      "Q9 RESULTS:\n",
      "shout('hello') -> HELLO\n",
      "area(5, 10) -> 50\n"
     ]
    }
   ],
   "source": [
    "# Q9 - Helper Functions (Simulated Modules)\n",
    "\n",
    "def shout(s: str) -> str:\n",
    "    \"\"\"Return uppercase version of a string.\"\"\"\n",
    "    return s.upper()\n",
    "\n",
    "def area(length: float, width: float) -> float:\n",
    "    \"\"\"Return the area of a rectangle.\"\"\"\n",
    "    return length * width\n",
    "\n",
    "# Example usage\n",
    "print(\"Q9 RESULTS:\")\n",
    "print(\"shout('hello') ->\", shout(\"hello\"))\n",
    "print(\"area(5, 10) ->\", area(5, 10))\n"
   ]
  },
  {
   "cell_type": "markdown",
   "id": "200464c2-e7be-47ee-b77b-7db84d6c9a4a",
   "metadata": {},
   "source": [
    "Explanation (short):\n",
    "\n",
    "import module as alias keeps module-level namespace (alias.name) and avoids polluting the importing module.\n",
    "\n",
    "from module import name puts name directly into current namespace and is convenient, but risks collisions: if you also define name locally, you shadow or overwrite it. Aliases reduce long dotted names and collisions.\n",
    "Anchor concepts: modules/packages, imports, namespaces. "
   ]
  },
  {
   "cell_type": "markdown",
   "id": "3d2dbe0a-c732-4d48-a961-268424f6947d",
   "metadata": {},
   "source": [
    "# Q10. Robust Temperature Converter (Functions + Exceptions)"
   ]
  },
  {
   "cell_type": "markdown",
   "id": "b6291801-7174-4f73-b63c-def0a590d8c9",
   "metadata": {},
   "source": [
    "# Prompt (paste verbatim)"
   ]
  },
  {
   "cell_type": "markdown",
   "id": "dc4f4dcc-1955-48ff-989a-31bed8470bc9",
   "metadata": {},
   "source": [
    "Write two functions: cel_to_far(c) and far_to_cel(f) with type hints and docstrings. Build a CLI that asks the user which direction to convert and validates input (gracefully handles bad entries). Include unit tests (doctest or simple asserts) covering typical and edge cases (e.g., -40). Anchor concepts: writing functions, control flow, input handling, testing. Reference:"
   ]
  },
  {
   "cell_type": "code",
   "execution_count": 41,
   "id": "5cf1e3f4-f464-4aa8-90b6-9aa6e0d78428",
   "metadata": {},
   "outputs": [
    {
     "name": "stdin",
     "output_type": "stream",
     "text": [
      "C->F or F->C?  awwd\n"
     ]
    },
    {
     "name": "stdout",
     "output_type": "stream",
     "text": [
      "Invalid option\n"
     ]
    }
   ],
   "source": [
    "def cel_to_far(c):\n",
    "    return c * 9/5 + 32\n",
    "\n",
    "def far_to_cel(f):\n",
    "    return (f - 32) * 5/9\n",
    "\n",
    "v = input(\"C->F or F->C? \")\n",
    "if v.lower() == 'c->f':\n",
    "    c = float(input(\"C: \"))\n",
    "    print(cel_to_far(c))\n",
    "elif v.lower() == 'f->c':\n",
    "    f = float(input(\"F: \"))\n",
    "    print(far_to_cel(f))\n",
    "else:\n",
    "    print(\"Invalid option\")\n"
   ]
  },
  {
   "cell_type": "markdown",
   "id": "4357ad81-9047-400d-bb6c-d60efbda5280",
   "metadata": {},
   "source": [
    "# Critique"
   ]
  },
  {
   "cell_type": "markdown",
   "id": "c3d41e79-e56a-4fcf-98ed-47319d6e0adf",
   "metadata": {},
   "source": [
    "Correctness: Conversion formulas are correct.\n",
    "\n",
    "Robustness: No type hints, no validation of numeric parse errors (ValueError), and the CLI option parsing expects exact c->f. Should accept simpler commands and handle bad input gracefully.\n",
    "\n",
    "Testing: No tests present."
   ]
  },
  {
   "cell_type": "markdown",
   "id": "e1b19304-e7ac-4eb1-be47-ce3eda35a581",
   "metadata": {},
   "source": [
    "# Improved Code"
   ]
  },
  {
   "cell_type": "code",
   "execution_count": 43,
   "id": "a590403a-a5b1-4b06-bf68-24fe35daa642",
   "metadata": {},
   "outputs": [
    {
     "name": "stdout",
     "output_type": "stream",
     "text": [
      "Q10 RESULTS:\n",
      "0°C -> 32.0 °F\n",
      "32°F -> 0.0 °C\n",
      "-40°C -> -40.0 °F\n"
     ]
    }
   ],
   "source": [
    "# Q10 - Temperature Converter (Celsius <-> Fahrenheit)\n",
    "\n",
    "def cel_to_far(c: float) -> float:\n",
    "    \"\"\"Convert Celsius to Fahrenheit.\"\"\"\n",
    "    return c * 9 / 5 + 32\n",
    "\n",
    "def far_to_cel(f: float) -> float:\n",
    "    \"\"\"Convert Fahrenheit to Celsius.\"\"\"\n",
    "    return (f - 32) * 5 / 9\n",
    "\n",
    "# Example outputs\n",
    "print(\"Q10 RESULTS:\")\n",
    "print(\"0°C ->\", cel_to_far(0), \"°F\")\n",
    "print(\"32°F ->\", far_to_cel(32), \"°C\")\n",
    "print(\"-40°C ->\", cel_to_far(-40), \"°F\")\n"
   ]
  },
  {
   "cell_type": "markdown",
   "id": "5d70417d-8f27-40f7-9cb6-465aa8cdd3bb",
   "metadata": {},
   "source": [
    "Complexity: O(1).\n",
    "Anchor concepts: functions, I/O, error handling, testing"
   ]
  }
 ],
 "metadata": {
  "kernelspec": {
   "display_name": "Python [conda env:base] *",
   "language": "python",
   "name": "conda-base-py"
  },
  "language_info": {
   "codemirror_mode": {
    "name": "ipython",
    "version": 3
   },
   "file_extension": ".py",
   "mimetype": "text/x-python",
   "name": "python",
   "nbconvert_exporter": "python",
   "pygments_lexer": "ipython3",
   "version": "3.13.5"
  }
 },
 "nbformat": 4,
 "nbformat_minor": 5
}
