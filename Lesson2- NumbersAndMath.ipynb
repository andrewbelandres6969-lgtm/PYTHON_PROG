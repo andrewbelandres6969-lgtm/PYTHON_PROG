{
 "cells": [
  {
   "cell_type": "markdown",
   "id": "7576c3ce-28db-4808-8865-dce7efd4ac40",
   "metadata": {},
   "source": [
    "# Review Questions 1"
   ]
  },
  {
   "cell_type": "code",
   "execution_count": 1,
   "id": "5987ed7d-f3bb-4599-b5f4-e85cbfb3f2f1",
   "metadata": {},
   "outputs": [
    {
     "name": "stdout",
     "output_type": "stream",
     "text": [
      "(25, 0, 0)\n",
      "25000000\n"
     ]
    }
   ],
   "source": [
    "#1\n",
    "num1 = 25,000,000\n",
    "num2 = 25_000_000\n",
    "\n",
    "print(num1)\n",
    "print(num2)"
   ]
  },
  {
   "cell_type": "code",
   "execution_count": 2,
   "id": "91ea5676-e7e1-4df0-b4f9-5dc8e75ef85d",
   "metadata": {},
   "outputs": [
    {
     "name": "stdout",
     "output_type": "stream",
     "text": [
      "17500000.0\n"
     ]
    }
   ],
   "source": [
    "#2 \n",
    "num = 175e5\n",
    "\n",
    "print(num)\n",
    "\n"
   ]
  },
  {
   "cell_type": "code",
   "execution_count": 3,
   "id": "70483b8f-7efb-446e-bf32-d2b4846041a4",
   "metadata": {},
   "outputs": [
    {
     "name": "stdout",
     "output_type": "stream",
     "text": [
      "2e408:  inf\n",
      "2e409:  inf\n"
     ]
    }
   ],
   "source": [
    "#3\n",
    "\n",
    "num1 = 2e401\n",
    "num2 = 2e402\n",
    "\n",
    "print(\"2e408: \",num1)\n",
    "print(\"2e409: \",num2)\n",
    "\n",
    "\n"
   ]
  },
  {
   "cell_type": "markdown",
   "id": "0032a525-81d3-4363-aa07-1ed9793c3887",
   "metadata": {},
   "source": [
    "# Review Questions 2"
   ]
  },
  {
   "cell_type": "code",
   "execution_count": 5,
   "id": "24c75eac-9d46-4987-a763-d4244b84c132",
   "metadata": {},
   "outputs": [
    {
     "name": "stdin",
     "output_type": "stream",
     "text": [
      " Enter a Base:  1.2\n",
      "Enter an Exponent:  3\n"
     ]
    },
    {
     "data": {
      "text/plain": [
       "1.7279999999999998"
      ]
     },
     "execution_count": 5,
     "metadata": {},
     "output_type": "execute_result"
    }
   ],
   "source": [
    "#1\n",
    "\n",
    "base = float(input (\" Enter a Base: \"))\n",
    "exponent = float(input (\"Enter an Exponent: \"))\n",
    "\n",
    "base ** exponent\n",
    "\n",
    "\n"
   ]
  },
  {
   "cell_type": "markdown",
   "id": "4b1f5f5d-4891-46d7-8068-76bcd54e63ca",
   "metadata": {},
   "source": [
    "# Review Questions 3\n"
   ]
  },
  {
   "cell_type": "code",
   "execution_count": 6,
   "id": "c455805b-f479-4112-94de-1b1f108aa581",
   "metadata": {},
   "outputs": [
    {
     "name": "stdin",
     "output_type": "stream",
     "text": [
      " Enter a Number:  5.432\n"
     ]
    },
    {
     "name": "stdout",
     "output_type": "stream",
     "text": [
      "(num) rounded to 2 decimal: 5.43\n"
     ]
    }
   ],
   "source": [
    "num = float(input(\" Enter a Number: \"))\n",
    "rounded_num = round (num, 2)\n",
    "\n",
    "print(f\"(num) rounded to 2 decimal: {rounded_num}\")"
   ]
  },
  {
   "cell_type": "code",
   "execution_count": 8,
   "id": "3de8a62d-0e10-4c31-9573-f22bd1cb603a",
   "metadata": {
    "scrolled": true
   },
   "outputs": [
    {
     "name": "stdin",
     "output_type": "stream",
     "text": [
      " Enter a number:  -10\n"
     ]
    },
    {
     "name": "stdout",
     "output_type": "stream",
     "text": [
      "The absolute value of (raw) is 10.0\n"
     ]
    }
   ],
   "source": [
    "raw = input (\" Enter a number: \")\n",
    "value = float (raw)\n",
    "\n",
    "print (f\"The absolute value of (raw) is {abs(value)}\")"
   ]
  },
  {
   "cell_type": "markdown",
   "id": "fb961668-7e42-40f5-b34a-b43fecfea9b4",
   "metadata": {},
   "source": [
    "# Review Question 4"
   ]
  },
  {
   "cell_type": "code",
   "execution_count": 9,
   "id": "da546399-b54f-44a5-9264-4811470fce0b",
   "metadata": {},
   "outputs": [
    {
     "name": "stdin",
     "output_type": "stream",
     "text": [
      "Enter a number:  1.5\n",
      "Enter another number:  1.0\n"
     ]
    },
    {
     "name": "stdout",
     "output_type": "stream",
     "text": [
      "The difference between 1.5 and 1.0 is an integer? False!\n"
     ]
    }
   ],
   "source": [
    "num1 = float(input(\"Enter a number: \"))\n",
    "num2 = float(input(\"Enter another number: \"))\n",
    "\n",
    "difference = num1 - num2\n",
    "\n",
    "is_integer = difference.is_integer()\n",
    "\n",
    "print(f\"The difference between {num1} and {num2} is an integer? {is_integer}!\")"
   ]
  },
  {
   "cell_type": "markdown",
   "id": "48281237-b108-4365-a5d2-bb8b8dbf6b83",
   "metadata": {},
   "source": [
    "# Review Questions 5"
   ]
  },
  {
   "cell_type": "code",
   "execution_count": 10,
   "id": "02f7f8d7-9128-467b-a011-a435307f2878",
   "metadata": {},
   "outputs": [
    {
     "name": "stdout",
     "output_type": "stream",
     "text": [
      "1.147\n"
     ]
    }
   ],
   "source": [
    "#1\n",
    "result = 3 ** 0.125\n",
    "print(f\"{result:.3f}\")"
   ]
  },
  {
   "cell_type": "code",
   "execution_count": 11,
   "id": "7f029cec-6f9b-4d9e-be97-8b76c4232b87",
   "metadata": {},
   "outputs": [
    {
     "name": "stdout",
     "output_type": "stream",
     "text": [
      "150,000.00\n"
     ]
    }
   ],
   "source": [
    "#2\n",
    "amount = 150000\n",
    "print(f\"{amount:,.2f}\")"
   ]
  },
  {
   "cell_type": "code",
   "execution_count": 12,
   "id": "9d90269d-3c0c-4832-b855-aa5ce84610f4",
   "metadata": {},
   "outputs": [
    {
     "name": "stdout",
     "output_type": "stream",
     "text": [
      "20%\n"
     ]
    }
   ],
   "source": [
    "#3\n",
    "percent = 2 / 10\n",
    "print(f\"{percent:.0%}\")"
   ]
  },
  {
   "cell_type": "code",
   "execution_count": null,
   "id": "8383d04d-2ce3-41be-927b-5c6808378203",
   "metadata": {},
   "outputs": [],
   "source": []
  }
 ],
 "metadata": {
  "kernelspec": {
   "display_name": "Python 3 (ipykernel)",
   "language": "python",
   "name": "python3"
  },
  "language_info": {
   "codemirror_mode": {
    "name": "ipython",
    "version": 3
   },
   "file_extension": ".py",
   "mimetype": "text/x-python",
   "name": "python",
   "nbconvert_exporter": "python",
   "pygments_lexer": "ipython3",
   "version": "3.13.5"
  }
 },
 "nbformat": 4,
 "nbformat_minor": 5
}
