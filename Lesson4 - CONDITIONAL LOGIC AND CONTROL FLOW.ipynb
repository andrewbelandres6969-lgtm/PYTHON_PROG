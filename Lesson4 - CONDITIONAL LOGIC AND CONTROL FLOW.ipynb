{
 "cells": [
  {
   "cell_type": "markdown",
   "id": "c3d1a93b-1e14-4f65-8286-22e06a34de33",
   "metadata": {},
   "source": [
    "# Review Exercise\n"
   ]
  },
  {
   "cell_type": "code",
   "execution_count": 1,
   "id": "04f4bf15-6a87-4650-8b9f-3ca256db034c",
   "metadata": {},
   "outputs": [
    {
     "data": {
      "text/plain": [
       "True"
      ]
     },
     "execution_count": 1,
     "metadata": {},
     "output_type": "execute_result"
    }
   ],
   "source": [
    "1 <= 1 \n"
   ]
  },
  {
   "cell_type": "code",
   "execution_count": 2,
   "id": "a175f61d-803a-4f3f-979e-165a7ac9c944",
   "metadata": {},
   "outputs": [
    {
     "data": {
      "text/plain": [
       "False"
      ]
     },
     "execution_count": 2,
     "metadata": {},
     "output_type": "execute_result"
    }
   ],
   "source": [
    "1 != 1"
   ]
  },
  {
   "cell_type": "code",
   "execution_count": 3,
   "id": "8efb55ba-b8eb-4765-903f-ee0152395213",
   "metadata": {},
   "outputs": [
    {
     "data": {
      "text/plain": [
       "True"
      ]
     },
     "execution_count": 3,
     "metadata": {},
     "output_type": "execute_result"
    }
   ],
   "source": [
    "1 != 2"
   ]
  },
  {
   "cell_type": "code",
   "execution_count": 4,
   "id": "11b90452-5ade-459a-8dc9-a93599597532",
   "metadata": {},
   "outputs": [
    {
     "data": {
      "text/plain": [
       "True"
      ]
     },
     "execution_count": 4,
     "metadata": {},
     "output_type": "execute_result"
    }
   ],
   "source": [
    "\"good\" != \"bad\""
   ]
  },
  {
   "cell_type": "code",
   "execution_count": 5,
   "id": "a035d910-3442-4128-8f25-abdaf3721a89",
   "metadata": {},
   "outputs": [
    {
     "data": {
      "text/plain": [
       "True"
      ]
     },
     "execution_count": 5,
     "metadata": {},
     "output_type": "execute_result"
    }
   ],
   "source": [
    "\"good\" != \"Good\""
   ]
  },
  {
   "cell_type": "code",
   "execution_count": 6,
   "id": "ccb6de57-4d6b-4b8b-8bdc-3755ce82c5d5",
   "metadata": {},
   "outputs": [
    {
     "data": {
      "text/plain": [
       "False"
      ]
     },
     "execution_count": 6,
     "metadata": {},
     "output_type": "execute_result"
    }
   ],
   "source": [
    "123 == \"123\""
   ]
  },
  {
   "cell_type": "code",
   "execution_count": 7,
   "id": "5c690c3b-ef1b-41fe-be7d-6651b6e96694",
   "metadata": {},
   "outputs": [
    {
     "data": {
      "text/plain": [
       "True"
      ]
     },
     "execution_count": 7,
     "metadata": {},
     "output_type": "execute_result"
    }
   ],
   "source": [
    "#2 \n",
    "(3 <= 4)"
   ]
  },
  {
   "cell_type": "code",
   "execution_count": 8,
   "id": "7520be60-3dde-4a29-99c2-fa5564c08b3b",
   "metadata": {},
   "outputs": [
    {
     "data": {
      "text/plain": [
       "True"
      ]
     },
     "execution_count": 8,
     "metadata": {},
     "output_type": "execute_result"
    }
   ],
   "source": [
    "10 > 5"
   ]
  },
  {
   "cell_type": "code",
   "execution_count": 9,
   "id": "2a22d80c-6339-421c-9a61-bfbc9eb04e34",
   "metadata": {},
   "outputs": [
    {
     "data": {
      "text/plain": [
       "True"
      ]
     },
     "execution_count": 9,
     "metadata": {},
     "output_type": "execute_result"
    }
   ],
   "source": [
    "\"jack\" != \"jill\""
   ]
  },
  {
   "cell_type": "code",
   "execution_count": 10,
   "id": "52048ea9-0781-46f7-9ac5-10e2884c59c0",
   "metadata": {},
   "outputs": [
    {
     "data": {
      "text/plain": [
       "True"
      ]
     },
     "execution_count": 10,
     "metadata": {},
     "output_type": "execute_result"
    }
   ],
   "source": [
    "42 != \"42\""
   ]
  },
  {
   "cell_type": "markdown",
   "id": "6ff89da6-6d49-430f-b59b-8b9b70033aed",
   "metadata": {},
   "source": [
    "# Review Exercise"
   ]
  },
  {
   "cell_type": "code",
   "execution_count": 11,
   "id": "16836c86-00aa-4fb8-8d21-a727e1be12c8",
   "metadata": {},
   "outputs": [
    {
     "data": {
      "text/plain": [
       "False"
      ]
     },
     "execution_count": 11,
     "metadata": {},
     "output_type": "execute_result"
    }
   ],
   "source": [
    "(1 <= 1) and (1 != 1)"
   ]
  },
  {
   "cell_type": "code",
   "execution_count": 12,
   "id": "0fb17292-9a6f-4ef1-beab-47c477714e2d",
   "metadata": {},
   "outputs": [
    {
     "data": {
      "text/plain": [
       "False"
      ]
     },
     "execution_count": 12,
     "metadata": {},
     "output_type": "execute_result"
    }
   ],
   "source": [
    "not (1 != 2)"
   ]
  },
  {
   "cell_type": "code",
   "execution_count": 13,
   "id": "883b09b0-a425-43ca-92f4-22822023880d",
   "metadata": {},
   "outputs": [
    {
     "data": {
      "text/plain": [
       "True"
      ]
     },
     "execution_count": 13,
     "metadata": {},
     "output_type": "execute_result"
    }
   ],
   "source": [
    "(\"good\" != \"bad\") or False"
   ]
  },
  {
   "cell_type": "code",
   "execution_count": 14,
   "id": "6a8923c2-fef8-4884-9fec-44b492a8d212",
   "metadata": {},
   "outputs": [
    {
     "data": {
      "text/plain": [
       "False"
      ]
     },
     "execution_count": 14,
     "metadata": {},
     "output_type": "execute_result"
    }
   ],
   "source": [
    "(\"good\" != \"Good\" and not (1 == 1))"
   ]
  },
  {
   "cell_type": "code",
   "execution_count": 15,
   "id": "50362511-dbb6-44e8-bddc-79a1121081de",
   "metadata": {},
   "outputs": [
    {
     "data": {
      "text/plain": [
       "True"
      ]
     },
     "execution_count": 15,
     "metadata": {},
     "output_type": "execute_result"
    }
   ],
   "source": [
    "(False == (not True))"
   ]
  },
  {
   "cell_type": "code",
   "execution_count": 16,
   "id": "c2e53311-dbbd-4827-9e69-556dfa5b4e47",
   "metadata": {},
   "outputs": [
    {
     "data": {
      "text/plain": [
       "True"
      ]
     },
     "execution_count": 16,
     "metadata": {},
     "output_type": "execute_result"
    }
   ],
   "source": [
    "(True and False) == (True and False)"
   ]
  },
  {
   "cell_type": "code",
   "execution_count": 17,
   "id": "ce58d724-3cd8-4dc2-bf64-bcbaa07f4905",
   "metadata": {},
   "outputs": [
    {
     "data": {
      "text/plain": [
       "True"
      ]
     },
     "execution_count": 17,
     "metadata": {},
     "output_type": "execute_result"
    }
   ],
   "source": [
    "not (True and (\"A\" == \"B\"))"
   ]
  },
  {
   "cell_type": "markdown",
   "id": "36835162-8f3e-459d-b5dc-2f1a2741f768",
   "metadata": {},
   "source": [
    "# Review Exercise\n"
   ]
  },
  {
   "cell_type": "code",
   "execution_count": 18,
   "id": "937eae7b-657d-40cf-ab62-77c6dd83f37d",
   "metadata": {},
   "outputs": [
    {
     "name": "stdin",
     "output_type": "stream",
     "text": [
      "Enter a word:  a\n"
     ]
    },
    {
     "name": "stdout",
     "output_type": "stream",
     "text": [
      "The word has less than 5 characters.\n"
     ]
    }
   ],
   "source": [
    "word = input(\"Enter a word: \")\n",
    "\n",
    "if len(word) < 5:\n",
    "    print(\"The word has less than 5 characters.\")\n",
    "elif len(word) > 5:\n",
    "    print(\"The word has greater than 5 characters.\")\n",
    "else:\n",
    "    print(\"The word has exactly 5 characters.\")\n"
   ]
  },
  {
   "cell_type": "markdown",
   "id": "c257f0f7-572b-4137-b40e-1a98c7214ce4",
   "metadata": {},
   "source": [
    "# Review Exercise 4"
   ]
  },
  {
   "cell_type": "code",
   "execution_count": 23,
   "id": "415f7956-6905-471a-888c-07c575d51b3a",
   "metadata": {},
   "outputs": [
    {
     "name": "stdin",
     "output_type": "stream",
     "text": [
      "Enter anything (or 'Y' to stop):  y\n",
      "Enter anything (or 'Y' to stop):  Y\n"
     ]
    },
    {
     "name": "stdout",
     "output_type": "stream",
     "text": [
      "Bye bye\n"
     ]
    }
   ],
   "source": [
    "for _ in range(1000000):  \n",
    "    user_input = input(\"Enter anything (or 'Y' to stop): \")\n",
    "\n",
    "    if user_input == \"Q\" or user_input == \"Y\":  \n",
    "        print(\"Bye bye\")\n",
    "        break\n"
   ]
  },
  {
   "cell_type": "code",
   "execution_count": 30,
   "id": "34d7e17e-143e-4dfb-a695-85072e15f1a9",
   "metadata": {},
   "outputs": [
    {
     "name": "stdout",
     "output_type": "stream",
     "text": [
      "1\n",
      "2\n",
      "4\n",
      "5\n",
      "7\n",
      "8\n",
      "10\n",
      "11\n",
      "13\n",
      "14\n",
      "16\n",
      "17\n",
      "19\n",
      "20\n",
      "22\n",
      "23\n",
      "25\n",
      "26\n",
      "28\n",
      "29\n",
      "31\n",
      "32\n",
      "34\n",
      "35\n",
      "37\n",
      "38\n",
      "40\n",
      "41\n",
      "43\n",
      "44\n",
      "46\n",
      "47\n",
      "49\n"
     ]
    }
   ],
   "source": [
    "for n in range(1, 50):\n",
    "    if n % 3 == 0:\n",
    "        continue\n",
    "    print(n)"
   ]
  },
  {
   "cell_type": "markdown",
   "id": "c987792d-f65d-4496-9fa4-a6b6c3a01beb",
   "metadata": {},
   "source": [
    "# Review Exercise 5"
   ]
  },
  {
   "cell_type": "code",
   "execution_count": 31,
   "id": "2bf33398-2d67-443c-8c45-caa8ec725b50",
   "metadata": {},
   "outputs": [
    {
     "name": "stdin",
     "output_type": "stream",
     "text": [
      "Enter an integer:  12\\\n"
     ]
    },
    {
     "name": "stdout",
     "output_type": "stream",
     "text": [
      "That’s not an integer, try again.\n"
     ]
    },
    {
     "name": "stdin",
     "output_type": "stream",
     "text": [
      "Enter an integer:  12\n"
     ]
    },
    {
     "name": "stdout",
     "output_type": "stream",
     "text": [
      "An Integer: 12\n"
     ]
    }
   ],
   "source": [
    "while True:\n",
    "    try:\n",
    "        num = int(input(\"Enter an integer: \"))\n",
    "        print(f\"An Integer: {num}\")\n",
    "        break  \n",
    "    except ValueError:\n",
    "        print(\"That’s not an integer, try again.\")"
   ]
  },
  {
   "cell_type": "code",
   "execution_count": 35,
   "id": "d549203e-a58a-4aee-a342-ff325b174e71",
   "metadata": {},
   "outputs": [
    {
     "name": "stdin",
     "output_type": "stream",
     "text": [
      "Enter a string:  A\n",
      "Enter an integer index n:  12\n"
     ]
    },
    {
     "name": "stdout",
     "output_type": "stream",
     "text": [
      "Invalid: Index out of range.\n"
     ]
    }
   ],
   "source": [
    "user_string = input(\"Enter a string: \")\n",
    "\n",
    "n = int(input(\"Enter an integer index n: \"))\n",
    "if 0 <= n < len(user_string):\n",
    "    print(f\"The character at index {n} is '{user_string[n]}'.\")\n",
    "else:\n",
    "    print(\"Invalid: Index out of range.\")"
   ]
  },
  {
   "cell_type": "markdown",
   "id": "ea9de51e-070b-4df9-a00d-b29019316fc6",
   "metadata": {},
   "source": [
    "# Challenge"
   ]
  },
  {
   "cell_type": "code",
   "execution_count": 36,
   "id": "9a8ac322-a63c-4b32-9a5a-2c4b17505495",
   "metadata": {},
   "outputs": [
    {
     "name": "stdout",
     "output_type": "stream",
     "text": [
      "Estimated probability Candidate A wins overall: 63.12%\n"
     ]
    }
   ],
   "source": [
    "import random\n",
    "\n",
    "def simulate_election(trials=100000):\n",
    "    chances = [0.87, 0.65, 0.17]\n",
    "    \n",
    "    a_wins = 0  \n",
    "    for _ in range(trials):\n",
    "        wins = 0\n",
    "        \n",
    "        for chance in chances:\n",
    "            if random.random() < chance:  \n",
    "                wins += 1\n",
    "        if wins >= 2: \n",
    "            a_wins += 1\n",
    "   \n",
    "    return a_wins / trials\n",
    "\n",
    "probability = simulate_election()\n",
    "print(f\"Estimated probability Candidate A wins overall: {probability:.2%}\")\n"
   ]
  },
  {
   "cell_type": "code",
   "execution_count": null,
   "id": "08761628-8a42-47bd-97c2-6727b95c1c15",
   "metadata": {},
   "outputs": [],
   "source": []
  }
 ],
 "metadata": {
  "kernelspec": {
   "display_name": "Python 3 (ipykernel)",
   "language": "python",
   "name": "python3"
  },
  "language_info": {
   "codemirror_mode": {
    "name": "ipython",
    "version": 3
   },
   "file_extension": ".py",
   "mimetype": "text/x-python",
   "name": "python",
   "nbconvert_exporter": "python",
   "pygments_lexer": "ipython3",
   "version": "3.13.5"
  }
 },
 "nbformat": 4,
 "nbformat_minor": 5
}
